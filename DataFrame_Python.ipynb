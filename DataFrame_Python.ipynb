{
  "nbformat": 4,
  "nbformat_minor": 0,
  "metadata": {
    "colab": {
      "name": "DataFrame Python.ipynb",
      "provenance": [],
      "collapsed_sections": [],
      "authorship_tag": "ABX9TyPVrTg8oIijVVpsKT4pvoxK"
    },
    "kernelspec": {
      "name": "python3",
      "display_name": "Python 3"
    }
  },
  "cells": [
    {
      "cell_type": "markdown",
      "metadata": {
        "id": "GlH3dF39JENQ",
        "colab_type": "text"
      },
      "source": [
        "#Data Frame"
      ]
    },
    {
      "cell_type": "markdown",
      "metadata": {
        "id": "-FXviXHgJJsI",
        "colab_type": "text"
      },
      "source": [
        "Podemos comparar a estrutura de dados Data Frame com uma série contendo mais de uma coluna. \n",
        "\n",
        "Por definição, o Data Frame pode ser definido como uma série de **duas dimensões**.\n",
        "\n",
        "Cada coluna terá um denominação própria."
      ]
    },
    {
      "cell_type": "code",
      "metadata": {
        "id": "rKtn7ckvJBV3",
        "colab_type": "code",
        "colab": {}
      },
      "source": [
        "import pandas as pd"
      ],
      "execution_count": 0,
      "outputs": []
    },
    {
      "cell_type": "code",
      "metadata": {
        "id": "2Jg-yb0wKoma",
        "colab_type": "code",
        "outputId": "4bb400b3-2123-40d3-98f0-5f4df82b970a",
        "colab": {
          "base_uri": "https://localhost:8080/",
          "height": 311
        }
      },
      "source": [
        "usuario_1 = pd.Series([\"Gabriela\",\"Nintendo Switch\",2500], index = [\"Nome\",\"Produto\",\"Valor\"])\n",
        "usuario_2 = pd.Series([\"Leonardo\",\"Passagem aerea\", 1800], index = [\"Nome\",\"Produto\", \"Valor\"])\n",
        "usuario_3 = pd.Series([\"Joao\", \"Livro\", 50], index = [\"Nome\",\"Produto\", \"Valor\"])\n",
        "\n",
        "print(usuario_1)\n",
        "print(\"\\n\")\n",
        "print(usuario_2)\n",
        "print(\"\\n\")\n",
        "print(usuario_3)\n"
      ],
      "execution_count": 0,
      "outputs": [
        {
          "output_type": "stream",
          "text": [
            "Nome              Gabriela\n",
            "Produto    Nintendo Switch\n",
            "Valor                 2500\n",
            "dtype: object\n",
            "\n",
            "\n",
            "Nome             Leonardo\n",
            "Produto    Passagem aerea\n",
            "Valor                1800\n",
            "dtype: object\n",
            "\n",
            "\n",
            "Nome        Joao\n",
            "Produto    Livro\n",
            "Valor         50\n",
            "dtype: object\n"
          ],
          "name": "stdout"
        }
      ]
    },
    {
      "cell_type": "code",
      "metadata": {
        "id": "meh0_-LXMemO",
        "colab_type": "code",
        "outputId": "2b1e075b-afb9-421d-a165-ae736ae7de62",
        "colab": {
          "base_uri": "https://localhost:8080/",
          "height": 143
        }
      },
      "source": [
        "data_frame = pd.DataFrame([usuario_1,usuario_2,usuario_3], index = [\"Loja 1\",\"Loja 2\",\"Loja 3\"])\n",
        "data_frame"
      ],
      "execution_count": 0,
      "outputs": [
        {
          "output_type": "execute_result",
          "data": {
            "text/html": [
              "<div>\n",
              "<style scoped>\n",
              "    .dataframe tbody tr th:only-of-type {\n",
              "        vertical-align: middle;\n",
              "    }\n",
              "\n",
              "    .dataframe tbody tr th {\n",
              "        vertical-align: top;\n",
              "    }\n",
              "\n",
              "    .dataframe thead th {\n",
              "        text-align: right;\n",
              "    }\n",
              "</style>\n",
              "<table border=\"1\" class=\"dataframe\">\n",
              "  <thead>\n",
              "    <tr style=\"text-align: right;\">\n",
              "      <th></th>\n",
              "      <th>Nome</th>\n",
              "      <th>Produto</th>\n",
              "      <th>Valor</th>\n",
              "    </tr>\n",
              "  </thead>\n",
              "  <tbody>\n",
              "    <tr>\n",
              "      <th>Loja 1</th>\n",
              "      <td>Gabriela</td>\n",
              "      <td>Nintendo Switch</td>\n",
              "      <td>2500</td>\n",
              "    </tr>\n",
              "    <tr>\n",
              "      <th>Loja 2</th>\n",
              "      <td>Leonardo</td>\n",
              "      <td>Passagem aerea</td>\n",
              "      <td>1800</td>\n",
              "    </tr>\n",
              "    <tr>\n",
              "      <th>Loja 3</th>\n",
              "      <td>Joao</td>\n",
              "      <td>Livro</td>\n",
              "      <td>50</td>\n",
              "    </tr>\n",
              "  </tbody>\n",
              "</table>\n",
              "</div>"
            ],
            "text/plain": [
              "            Nome          Produto  Valor\n",
              "Loja 1  Gabriela  Nintendo Switch   2500\n",
              "Loja 2  Leonardo   Passagem aerea   1800\n",
              "Loja 3      Joao            Livro     50"
            ]
          },
          "metadata": {
            "tags": []
          },
          "execution_count": 113
        }
      ]
    },
    {
      "cell_type": "markdown",
      "metadata": {
        "id": "GspgEvrFOdUO",
        "colab_type": "text"
      },
      "source": [
        "No nosso exemplo, as três séries foram unidas formando um data frame.\n",
        "\n",
        "Assim como em uma série, podemos usar as funções **.iloc[*índice_numérico*]** e **.loc[\"*índice*\"]** para resgatar os valores das linhas da tabela:"
      ]
    },
    {
      "cell_type": "code",
      "metadata": {
        "id": "LKezxYqkOo5I",
        "colab_type": "code",
        "outputId": "4e1cfecb-a193-4fc1-dd3b-738b24c9600b",
        "colab": {
          "base_uri": "https://localhost:8080/",
          "height": 201
        }
      },
      "source": [
        "print(data_frame.loc[\"Loja 1\"])\n",
        "print(\"\\n\")\n",
        "print(data_frame.iloc[0])\n"
      ],
      "execution_count": 0,
      "outputs": [
        {
          "output_type": "stream",
          "text": [
            "Nome              Gabriela\n",
            "Produto    Nintendo Switch\n",
            "Valor                 2500\n",
            "Name: Loja 1, dtype: object\n",
            "\n",
            "\n",
            "Nome              Gabriela\n",
            "Produto    Nintendo Switch\n",
            "Valor                 2500\n",
            "Name: Loja 1, dtype: object\n"
          ],
          "name": "stdout"
        }
      ]
    },
    {
      "cell_type": "markdown",
      "metadata": {
        "id": "gtzuwzWxQvXI",
        "colab_type": "text"
      },
      "source": [
        "**É importante lembrar que: os índices númericos são sempre uma maneira de acessar os valores.**"
      ]
    },
    {
      "cell_type": "markdown",
      "metadata": {
        "id": "OgRwljyminjQ",
        "colab_type": "text"
      },
      "source": [
        "Diferentemente das séries, temos informações referentes a *linhas* e *colunas*.\n",
        "\n",
        "Sabemos que as informações das *linhas* serão obtidas por **.loc[*indice*]** ou **.iloc[*índice_numérico*]**.\n",
        "\n",
        "Já as informações das *colunas* serão resgatadas trivialmente, ou seja, **data_frame[\"*nome_coluna*\"]**."
      ]
    },
    {
      "cell_type": "code",
      "metadata": {
        "id": "sYeyob0phikm",
        "colab_type": "code",
        "outputId": "8133a5b3-a921-43f0-e703-6617c8b11e89",
        "colab": {
          "base_uri": "https://localhost:8080/",
          "height": 311
        }
      },
      "source": [
        "#temos as colunas Nome, Produto e Valor:\n",
        "print(data_frame[\"Nome\"])\n",
        "print(\"\\n\")\n",
        "print(data_frame[\"Produto\"])\n",
        "print(\"\\n\")\n",
        "print(data_frame[\"Valor\"])"
      ],
      "execution_count": 0,
      "outputs": [
        {
          "output_type": "stream",
          "text": [
            "Loja 1    Gabriela\n",
            "Loja 2    Leonardo\n",
            "Loja 3        Joao\n",
            "Name: Nome, dtype: object\n",
            "\n",
            "\n",
            "Loja 1    Nintendo Switch\n",
            "Loja 2     Passagem aerea\n",
            "Loja 3              Livro\n",
            "Name: Produto, dtype: object\n",
            "\n",
            "\n",
            "Loja 1    2500\n",
            "Loja 2    1800\n",
            "Loja 3      50\n",
            "Name: Valor, dtype: int64\n"
          ],
          "name": "stdout"
        }
      ]
    },
    {
      "cell_type": "markdown",
      "metadata": {
        "id": "reZmkXZhm4Me",
        "colab_type": "text"
      },
      "source": [
        "Dado nosso exemplo, vamos supor que é desejado separar apenas o *Produto* que foi comprado na *Loja 1*:"
      ]
    },
    {
      "cell_type": "code",
      "metadata": {
        "id": "FpzI1s4xnkhE",
        "colab_type": "code",
        "outputId": "e2f2b5c6-586c-482b-a1ea-4681fce874ee",
        "colab": {
          "base_uri": "https://localhost:8080/",
          "height": 35
        }
      },
      "source": [
        "print(data_frame.loc[\"Loja 1\", \"Produto\"])"
      ],
      "execution_count": 0,
      "outputs": [
        {
          "output_type": "stream",
          "text": [
            "Nintendo Switch\n"
          ],
          "name": "stdout"
        }
      ]
    },
    {
      "cell_type": "markdown",
      "metadata": {
        "id": "PXUWh1PDn0j2",
        "colab_type": "text"
      },
      "source": [
        "Podemos então usar a função **.loc** definindo as informações que queremos retornar.\n",
        "\n",
        "Usar slicing é um recurso muito útil também:"
      ]
    },
    {
      "cell_type": "code",
      "metadata": {
        "id": "oYFdhdvxoYoM",
        "colab_type": "code",
        "outputId": "43d10e5c-8d45-49ec-ca65-e7c31b72b878",
        "colab": {
          "base_uri": "https://localhost:8080/",
          "height": 182
        }
      },
      "source": [
        "print(data_frame.loc[\"Loja 2\":, \"Produto\"])\n",
        "print(\"\\n\")\n",
        "print(data_frame.loc[\"Loja 1\",:]) # : equivale a Nome:Valor"
      ],
      "execution_count": 0,
      "outputs": [
        {
          "output_type": "stream",
          "text": [
            "Loja 2    Passagem aerea\n",
            "Loja 3             Livro\n",
            "Name: Produto, dtype: object\n",
            "\n",
            "\n",
            "Nome              Gabriela\n",
            "Produto    Nintendo Switch\n",
            "Valor                 2500\n",
            "Name: Loja 1, dtype: object\n"
          ],
          "name": "stdout"
        }
      ]
    },
    {
      "cell_type": "markdown",
      "metadata": {
        "id": "DO8E1Yogrnvy",
        "colab_type": "text"
      },
      "source": [
        "É possível encadear a função **.loc** para obter o mesmo resultado de antes:"
      ]
    },
    {
      "cell_type": "code",
      "metadata": {
        "id": "Oaj6Rt0nq7Pp",
        "colab_type": "code",
        "outputId": "d8762571-8bfc-4ee1-eabc-88eb604cb0e7",
        "colab": {
          "base_uri": "https://localhost:8080/",
          "height": 54
        }
      },
      "source": [
        "print(data_frame.loc[\"Loja 1\", \"Valor\"])\n",
        "print(data_frame.loc[\"Loja 1\"][\"Valor\"])"
      ],
      "execution_count": 0,
      "outputs": [
        {
          "output_type": "stream",
          "text": [
            "2500\n",
            "2500\n"
          ],
          "name": "stdout"
        }
      ]
    },
    {
      "cell_type": "markdown",
      "metadata": {
        "id": "vQvrdwd3r8pZ",
        "colab_type": "text"
      },
      "source": [
        "Porém, o encadeamento geralmente gera uma cópia do data_frame original.\n",
        "\n",
        "Logo, qualquer alteração nessa cópia não alterará o data_frame original."
      ]
    },
    {
      "cell_type": "code",
      "metadata": {
        "id": "loPmz8NkruM0",
        "colab_type": "code",
        "outputId": "f2917cee-2103-4fa9-c6b0-62c6e472f9c1",
        "colab": {
          "base_uri": "https://localhost:8080/",
          "height": 109
        }
      },
      "source": [
        "data_frame.loc[\"Loja 1\", \"Valor\"] = 2000 \n",
        "data_frame.loc[\"Loja 2\"][\"Valor\"] = 30 #nao ira mudar"
      ],
      "execution_count": 0,
      "outputs": [
        {
          "output_type": "stream",
          "text": [
            "/usr/local/lib/python3.6/dist-packages/ipykernel_launcher.py:2: SettingWithCopyWarning: \n",
            "A value is trying to be set on a copy of a slice from a DataFrame\n",
            "\n",
            "See the caveats in the documentation: https://pandas.pydata.org/pandas-docs/stable/user_guide/indexing.html#returning-a-view-versus-a-copy\n",
            "  \n"
          ],
          "name": "stderr"
        }
      ]
    },
    {
      "cell_type": "code",
      "metadata": {
        "id": "cwZzl0a7r5ts",
        "colab_type": "code",
        "outputId": "1d07b9a8-b5f8-4b41-ff59-ae952f2accd2",
        "colab": {
          "base_uri": "https://localhost:8080/",
          "height": 143
        }
      },
      "source": [
        "data_frame"
      ],
      "execution_count": 0,
      "outputs": [
        {
          "output_type": "execute_result",
          "data": {
            "text/html": [
              "<div>\n",
              "<style scoped>\n",
              "    .dataframe tbody tr th:only-of-type {\n",
              "        vertical-align: middle;\n",
              "    }\n",
              "\n",
              "    .dataframe tbody tr th {\n",
              "        vertical-align: top;\n",
              "    }\n",
              "\n",
              "    .dataframe thead th {\n",
              "        text-align: right;\n",
              "    }\n",
              "</style>\n",
              "<table border=\"1\" class=\"dataframe\">\n",
              "  <thead>\n",
              "    <tr style=\"text-align: right;\">\n",
              "      <th></th>\n",
              "      <th>Nome</th>\n",
              "      <th>Produto</th>\n",
              "      <th>Valor</th>\n",
              "    </tr>\n",
              "  </thead>\n",
              "  <tbody>\n",
              "    <tr>\n",
              "      <th>Loja 1</th>\n",
              "      <td>Gabriela</td>\n",
              "      <td>Nintendo Switch</td>\n",
              "      <td>2000</td>\n",
              "    </tr>\n",
              "    <tr>\n",
              "      <th>Loja 2</th>\n",
              "      <td>Leonardo</td>\n",
              "      <td>Passagem aerea</td>\n",
              "      <td>1800</td>\n",
              "    </tr>\n",
              "    <tr>\n",
              "      <th>Loja 3</th>\n",
              "      <td>Joao</td>\n",
              "      <td>Livro</td>\n",
              "      <td>50</td>\n",
              "    </tr>\n",
              "  </tbody>\n",
              "</table>\n",
              "</div>"
            ],
            "text/plain": [
              "            Nome          Produto  Valor\n",
              "Loja 1  Gabriela  Nintendo Switch   2000\n",
              "Loja 2  Leonardo   Passagem aerea   1800\n",
              "Loja 3      Joao            Livro     50"
            ]
          },
          "metadata": {
            "tags": []
          },
          "execution_count": 120
        }
      ]
    },
    {
      "cell_type": "markdown",
      "metadata": {
        "id": "Bl4RzlyM7c7y",
        "colab_type": "text"
      },
      "source": [
        "#Adicionando nova linha ou coluna:"
      ]
    },
    {
      "cell_type": "markdown",
      "metadata": {
        "id": "jXZFGra59WF9",
        "colab_type": "text"
      },
      "source": [
        "Uma nova linha pode ser criada chamando **.loc[\"*índice*\"]** em um índice não existente do data frame e atribuindo os valores desejados:"
      ]
    },
    {
      "cell_type": "code",
      "metadata": {
        "id": "CNRTEY3k7vgn",
        "colab_type": "code",
        "outputId": "ba64b05b-739f-4218-ab88-3af99c08ee2b",
        "colab": {
          "base_uri": "https://localhost:8080/",
          "height": 175
        }
      },
      "source": [
        "data_frame.loc[\"Loja 4\"] = [\"Lucas\",\"Cartao SD\",\"65\"]\n",
        "data_frame"
      ],
      "execution_count": 0,
      "outputs": [
        {
          "output_type": "execute_result",
          "data": {
            "text/html": [
              "<div>\n",
              "<style scoped>\n",
              "    .dataframe tbody tr th:only-of-type {\n",
              "        vertical-align: middle;\n",
              "    }\n",
              "\n",
              "    .dataframe tbody tr th {\n",
              "        vertical-align: top;\n",
              "    }\n",
              "\n",
              "    .dataframe thead th {\n",
              "        text-align: right;\n",
              "    }\n",
              "</style>\n",
              "<table border=\"1\" class=\"dataframe\">\n",
              "  <thead>\n",
              "    <tr style=\"text-align: right;\">\n",
              "      <th></th>\n",
              "      <th>Nome</th>\n",
              "      <th>Produto</th>\n",
              "      <th>Valor</th>\n",
              "    </tr>\n",
              "  </thead>\n",
              "  <tbody>\n",
              "    <tr>\n",
              "      <th>Loja 1</th>\n",
              "      <td>Gabriela</td>\n",
              "      <td>Nintendo Switch</td>\n",
              "      <td>2000</td>\n",
              "    </tr>\n",
              "    <tr>\n",
              "      <th>Loja 2</th>\n",
              "      <td>Leonardo</td>\n",
              "      <td>Passagem aerea</td>\n",
              "      <td>1800</td>\n",
              "    </tr>\n",
              "    <tr>\n",
              "      <th>Loja 3</th>\n",
              "      <td>Joao</td>\n",
              "      <td>Livro</td>\n",
              "      <td>50</td>\n",
              "    </tr>\n",
              "    <tr>\n",
              "      <th>Loja 4</th>\n",
              "      <td>Lucas</td>\n",
              "      <td>Cartao SD</td>\n",
              "      <td>65</td>\n",
              "    </tr>\n",
              "  </tbody>\n",
              "</table>\n",
              "</div>"
            ],
            "text/plain": [
              "            Nome          Produto Valor\n",
              "Loja 1  Gabriela  Nintendo Switch  2000\n",
              "Loja 2  Leonardo   Passagem aerea  1800\n",
              "Loja 3      Joao            Livro    50\n",
              "Loja 4     Lucas        Cartao SD    65"
            ]
          },
          "metadata": {
            "tags": []
          },
          "execution_count": 121
        }
      ]
    },
    {
      "cell_type": "code",
      "metadata": {
        "id": "DFJRXvNm9mWp",
        "colab_type": "code",
        "outputId": "1343fea2-3a33-48fe-9f13-d9690eda16f5",
        "colab": {
          "base_uri": "https://localhost:8080/",
          "height": 81
        }
      },
      "source": [
        "apd = pd.DataFrame({\"Nome\" : \"Florenza\",\"Produto\" : \"Caderno\",\"Valor\" : \"15\"}, index = [\"Loja 5\"])\n",
        "apd"
      ],
      "execution_count": 0,
      "outputs": [
        {
          "output_type": "execute_result",
          "data": {
            "text/html": [
              "<div>\n",
              "<style scoped>\n",
              "    .dataframe tbody tr th:only-of-type {\n",
              "        vertical-align: middle;\n",
              "    }\n",
              "\n",
              "    .dataframe tbody tr th {\n",
              "        vertical-align: top;\n",
              "    }\n",
              "\n",
              "    .dataframe thead th {\n",
              "        text-align: right;\n",
              "    }\n",
              "</style>\n",
              "<table border=\"1\" class=\"dataframe\">\n",
              "  <thead>\n",
              "    <tr style=\"text-align: right;\">\n",
              "      <th></th>\n",
              "      <th>Nome</th>\n",
              "      <th>Produto</th>\n",
              "      <th>Valor</th>\n",
              "    </tr>\n",
              "  </thead>\n",
              "  <tbody>\n",
              "    <tr>\n",
              "      <th>Loja 5</th>\n",
              "      <td>Florenza</td>\n",
              "      <td>Caderno</td>\n",
              "      <td>15</td>\n",
              "    </tr>\n",
              "  </tbody>\n",
              "</table>\n",
              "</div>"
            ],
            "text/plain": [
              "            Nome  Produto Valor\n",
              "Loja 5  Florenza  Caderno    15"
            ]
          },
          "metadata": {
            "tags": []
          },
          "execution_count": 122
        }
      ]
    },
    {
      "cell_type": "markdown",
      "metadata": {
        "id": "VfzTaiCW_Do3",
        "colab_type": "text"
      },
      "source": [
        "Com a função **.append(\"*nome_data_frame*\")**, podemos aglutinar dois data frames:"
      ]
    },
    {
      "cell_type": "code",
      "metadata": {
        "id": "IkXLfHGe_Wk6",
        "colab_type": "code",
        "outputId": "60cade46-3041-4aff-a558-7246e46983b6",
        "colab": {
          "base_uri": "https://localhost:8080/",
          "height": 206
        }
      },
      "source": [
        "data_frame = data_frame.append(apd)\n",
        "data_frame"
      ],
      "execution_count": 0,
      "outputs": [
        {
          "output_type": "execute_result",
          "data": {
            "text/html": [
              "<div>\n",
              "<style scoped>\n",
              "    .dataframe tbody tr th:only-of-type {\n",
              "        vertical-align: middle;\n",
              "    }\n",
              "\n",
              "    .dataframe tbody tr th {\n",
              "        vertical-align: top;\n",
              "    }\n",
              "\n",
              "    .dataframe thead th {\n",
              "        text-align: right;\n",
              "    }\n",
              "</style>\n",
              "<table border=\"1\" class=\"dataframe\">\n",
              "  <thead>\n",
              "    <tr style=\"text-align: right;\">\n",
              "      <th></th>\n",
              "      <th>Nome</th>\n",
              "      <th>Produto</th>\n",
              "      <th>Valor</th>\n",
              "    </tr>\n",
              "  </thead>\n",
              "  <tbody>\n",
              "    <tr>\n",
              "      <th>Loja 1</th>\n",
              "      <td>Gabriela</td>\n",
              "      <td>Nintendo Switch</td>\n",
              "      <td>2000</td>\n",
              "    </tr>\n",
              "    <tr>\n",
              "      <th>Loja 2</th>\n",
              "      <td>Leonardo</td>\n",
              "      <td>Passagem aerea</td>\n",
              "      <td>1800</td>\n",
              "    </tr>\n",
              "    <tr>\n",
              "      <th>Loja 3</th>\n",
              "      <td>Joao</td>\n",
              "      <td>Livro</td>\n",
              "      <td>50</td>\n",
              "    </tr>\n",
              "    <tr>\n",
              "      <th>Loja 4</th>\n",
              "      <td>Lucas</td>\n",
              "      <td>Cartao SD</td>\n",
              "      <td>65</td>\n",
              "    </tr>\n",
              "    <tr>\n",
              "      <th>Loja 5</th>\n",
              "      <td>Florenza</td>\n",
              "      <td>Caderno</td>\n",
              "      <td>15</td>\n",
              "    </tr>\n",
              "  </tbody>\n",
              "</table>\n",
              "</div>"
            ],
            "text/plain": [
              "            Nome          Produto Valor\n",
              "Loja 1  Gabriela  Nintendo Switch  2000\n",
              "Loja 2  Leonardo   Passagem aerea  1800\n",
              "Loja 3      Joao            Livro    50\n",
              "Loja 4     Lucas        Cartao SD    65\n",
              "Loja 5  Florenza          Caderno    15"
            ]
          },
          "metadata": {
            "tags": []
          },
          "execution_count": 123
        }
      ]
    },
    {
      "cell_type": "markdown",
      "metadata": {
        "id": "RNHhiJqo_ftD",
        "colab_type": "text"
      },
      "source": [
        "A coluna é criada de maneira parecida.\n",
        "\n",
        "Basta acessar diretamente uma coluna não existente e atribuir os valores:"
      ]
    },
    {
      "cell_type": "code",
      "metadata": {
        "id": "AMvbSRPeAZgE",
        "colab_type": "code",
        "outputId": "1d47a11e-c5af-4d3a-d5ee-1dd214199311",
        "colab": {
          "base_uri": "https://localhost:8080/",
          "height": 206
        }
      },
      "source": [
        "data_frame[\"Em Estoque\"] = [\"Sim\",\"Sim\",\"Nao\",\"Nao\",\"Sim\"]\n",
        "data_frame"
      ],
      "execution_count": 0,
      "outputs": [
        {
          "output_type": "execute_result",
          "data": {
            "text/html": [
              "<div>\n",
              "<style scoped>\n",
              "    .dataframe tbody tr th:only-of-type {\n",
              "        vertical-align: middle;\n",
              "    }\n",
              "\n",
              "    .dataframe tbody tr th {\n",
              "        vertical-align: top;\n",
              "    }\n",
              "\n",
              "    .dataframe thead th {\n",
              "        text-align: right;\n",
              "    }\n",
              "</style>\n",
              "<table border=\"1\" class=\"dataframe\">\n",
              "  <thead>\n",
              "    <tr style=\"text-align: right;\">\n",
              "      <th></th>\n",
              "      <th>Nome</th>\n",
              "      <th>Produto</th>\n",
              "      <th>Valor</th>\n",
              "      <th>Em Estoque</th>\n",
              "    </tr>\n",
              "  </thead>\n",
              "  <tbody>\n",
              "    <tr>\n",
              "      <th>Loja 1</th>\n",
              "      <td>Gabriela</td>\n",
              "      <td>Nintendo Switch</td>\n",
              "      <td>2000</td>\n",
              "      <td>Sim</td>\n",
              "    </tr>\n",
              "    <tr>\n",
              "      <th>Loja 2</th>\n",
              "      <td>Leonardo</td>\n",
              "      <td>Passagem aerea</td>\n",
              "      <td>1800</td>\n",
              "      <td>Sim</td>\n",
              "    </tr>\n",
              "    <tr>\n",
              "      <th>Loja 3</th>\n",
              "      <td>Joao</td>\n",
              "      <td>Livro</td>\n",
              "      <td>50</td>\n",
              "      <td>Nao</td>\n",
              "    </tr>\n",
              "    <tr>\n",
              "      <th>Loja 4</th>\n",
              "      <td>Lucas</td>\n",
              "      <td>Cartao SD</td>\n",
              "      <td>65</td>\n",
              "      <td>Nao</td>\n",
              "    </tr>\n",
              "    <tr>\n",
              "      <th>Loja 5</th>\n",
              "      <td>Florenza</td>\n",
              "      <td>Caderno</td>\n",
              "      <td>15</td>\n",
              "      <td>Sim</td>\n",
              "    </tr>\n",
              "  </tbody>\n",
              "</table>\n",
              "</div>"
            ],
            "text/plain": [
              "            Nome          Produto Valor Em Estoque\n",
              "Loja 1  Gabriela  Nintendo Switch  2000        Sim\n",
              "Loja 2  Leonardo   Passagem aerea  1800        Sim\n",
              "Loja 3      Joao            Livro    50        Nao\n",
              "Loja 4     Lucas        Cartao SD    65        Nao\n",
              "Loja 5  Florenza          Caderno    15        Sim"
            ]
          },
          "metadata": {
            "tags": []
          },
          "execution_count": 124
        }
      ]
    },
    {
      "cell_type": "markdown",
      "metadata": {
        "id": "UfaSgBCc8vk-",
        "colab_type": "text"
      },
      "source": [
        "# Excluindo linha ou coluna do Data Frame:"
      ]
    },
    {
      "cell_type": "markdown",
      "metadata": {
        "id": "m_nQZFb7_lcj",
        "colab_type": "text"
      },
      "source": [
        "Existe mais de uma maneira para manipular um data frame de maneira que o resultado seja uma parte do data frame original.\n",
        "\n",
        "A função **.drop(\"*índice*\")** irá criar uma copia do data frame original sem a coluna passada por referência."
      ]
    },
    {
      "cell_type": "code",
      "metadata": {
        "id": "j0P4PXR-8-oL",
        "colab_type": "code",
        "outputId": "5518c56b-179a-460a-f16a-c1eaa6f44f6b",
        "colab": {
          "base_uri": "https://localhost:8080/",
          "height": 175
        }
      },
      "source": [
        "data_frame.drop(\"Loja 1\")\n"
      ],
      "execution_count": 0,
      "outputs": [
        {
          "output_type": "execute_result",
          "data": {
            "text/html": [
              "<div>\n",
              "<style scoped>\n",
              "    .dataframe tbody tr th:only-of-type {\n",
              "        vertical-align: middle;\n",
              "    }\n",
              "\n",
              "    .dataframe tbody tr th {\n",
              "        vertical-align: top;\n",
              "    }\n",
              "\n",
              "    .dataframe thead th {\n",
              "        text-align: right;\n",
              "    }\n",
              "</style>\n",
              "<table border=\"1\" class=\"dataframe\">\n",
              "  <thead>\n",
              "    <tr style=\"text-align: right;\">\n",
              "      <th></th>\n",
              "      <th>Nome</th>\n",
              "      <th>Produto</th>\n",
              "      <th>Valor</th>\n",
              "      <th>Em Estoque</th>\n",
              "    </tr>\n",
              "  </thead>\n",
              "  <tbody>\n",
              "    <tr>\n",
              "      <th>Loja 2</th>\n",
              "      <td>Leonardo</td>\n",
              "      <td>Passagem aerea</td>\n",
              "      <td>1800</td>\n",
              "      <td>Sim</td>\n",
              "    </tr>\n",
              "    <tr>\n",
              "      <th>Loja 3</th>\n",
              "      <td>Joao</td>\n",
              "      <td>Livro</td>\n",
              "      <td>50</td>\n",
              "      <td>Nao</td>\n",
              "    </tr>\n",
              "    <tr>\n",
              "      <th>Loja 4</th>\n",
              "      <td>Lucas</td>\n",
              "      <td>Cartao SD</td>\n",
              "      <td>65</td>\n",
              "      <td>Nao</td>\n",
              "    </tr>\n",
              "    <tr>\n",
              "      <th>Loja 5</th>\n",
              "      <td>Florenza</td>\n",
              "      <td>Caderno</td>\n",
              "      <td>15</td>\n",
              "      <td>Sim</td>\n",
              "    </tr>\n",
              "  </tbody>\n",
              "</table>\n",
              "</div>"
            ],
            "text/plain": [
              "            Nome         Produto Valor Em Estoque\n",
              "Loja 2  Leonardo  Passagem aerea  1800        Sim\n",
              "Loja 3      Joao           Livro    50        Nao\n",
              "Loja 4     Lucas       Cartao SD    65        Nao\n",
              "Loja 5  Florenza         Caderno    15        Sim"
            ]
          },
          "metadata": {
            "tags": []
          },
          "execution_count": 125
        }
      ]
    },
    {
      "cell_type": "markdown",
      "metadata": {
        "id": "gqBag6j-Am2f",
        "colab_type": "text"
      },
      "source": [
        "Entretanto, como o resultado é uma cópia, o data frame original não é alterado."
      ]
    },
    {
      "cell_type": "code",
      "metadata": {
        "id": "lEKyzqEO_eES",
        "colab_type": "code",
        "outputId": "a6e89eb1-0564-4083-fa1b-fa8d47bbd4d6",
        "colab": {
          "base_uri": "https://localhost:8080/",
          "height": 206
        }
      },
      "source": [
        "data_frame"
      ],
      "execution_count": 0,
      "outputs": [
        {
          "output_type": "execute_result",
          "data": {
            "text/html": [
              "<div>\n",
              "<style scoped>\n",
              "    .dataframe tbody tr th:only-of-type {\n",
              "        vertical-align: middle;\n",
              "    }\n",
              "\n",
              "    .dataframe tbody tr th {\n",
              "        vertical-align: top;\n",
              "    }\n",
              "\n",
              "    .dataframe thead th {\n",
              "        text-align: right;\n",
              "    }\n",
              "</style>\n",
              "<table border=\"1\" class=\"dataframe\">\n",
              "  <thead>\n",
              "    <tr style=\"text-align: right;\">\n",
              "      <th></th>\n",
              "      <th>Nome</th>\n",
              "      <th>Produto</th>\n",
              "      <th>Valor</th>\n",
              "      <th>Em Estoque</th>\n",
              "    </tr>\n",
              "  </thead>\n",
              "  <tbody>\n",
              "    <tr>\n",
              "      <th>Loja 1</th>\n",
              "      <td>Gabriela</td>\n",
              "      <td>Nintendo Switch</td>\n",
              "      <td>2000</td>\n",
              "      <td>Sim</td>\n",
              "    </tr>\n",
              "    <tr>\n",
              "      <th>Loja 2</th>\n",
              "      <td>Leonardo</td>\n",
              "      <td>Passagem aerea</td>\n",
              "      <td>1800</td>\n",
              "      <td>Sim</td>\n",
              "    </tr>\n",
              "    <tr>\n",
              "      <th>Loja 3</th>\n",
              "      <td>Joao</td>\n",
              "      <td>Livro</td>\n",
              "      <td>50</td>\n",
              "      <td>Nao</td>\n",
              "    </tr>\n",
              "    <tr>\n",
              "      <th>Loja 4</th>\n",
              "      <td>Lucas</td>\n",
              "      <td>Cartao SD</td>\n",
              "      <td>65</td>\n",
              "      <td>Nao</td>\n",
              "    </tr>\n",
              "    <tr>\n",
              "      <th>Loja 5</th>\n",
              "      <td>Florenza</td>\n",
              "      <td>Caderno</td>\n",
              "      <td>15</td>\n",
              "      <td>Sim</td>\n",
              "    </tr>\n",
              "  </tbody>\n",
              "</table>\n",
              "</div>"
            ],
            "text/plain": [
              "            Nome          Produto Valor Em Estoque\n",
              "Loja 1  Gabriela  Nintendo Switch  2000        Sim\n",
              "Loja 2  Leonardo   Passagem aerea  1800        Sim\n",
              "Loja 3      Joao            Livro    50        Nao\n",
              "Loja 4     Lucas        Cartao SD    65        Nao\n",
              "Loja 5  Florenza          Caderno    15        Sim"
            ]
          },
          "metadata": {
            "tags": []
          },
          "execution_count": 126
        }
      ]
    },
    {
      "cell_type": "markdown",
      "metadata": {
        "id": "-BksXKsqBIFL",
        "colab_type": "text"
      },
      "source": [
        "Podemos atribuir essa cópia a outra variável de maneira que o novo data frame fique armazenado. "
      ]
    },
    {
      "cell_type": "code",
      "metadata": {
        "id": "PL6CkFGlA-WV",
        "colab_type": "code",
        "outputId": "7bf86c76-dc7e-4660-af01-6ff396947a56",
        "colab": {
          "base_uri": "https://localhost:8080/",
          "height": 175
        }
      },
      "source": [
        "data_frame_copy = data_frame.drop(\"Loja 1\")\n",
        "data_frame_copy"
      ],
      "execution_count": 0,
      "outputs": [
        {
          "output_type": "execute_result",
          "data": {
            "text/html": [
              "<div>\n",
              "<style scoped>\n",
              "    .dataframe tbody tr th:only-of-type {\n",
              "        vertical-align: middle;\n",
              "    }\n",
              "\n",
              "    .dataframe tbody tr th {\n",
              "        vertical-align: top;\n",
              "    }\n",
              "\n",
              "    .dataframe thead th {\n",
              "        text-align: right;\n",
              "    }\n",
              "</style>\n",
              "<table border=\"1\" class=\"dataframe\">\n",
              "  <thead>\n",
              "    <tr style=\"text-align: right;\">\n",
              "      <th></th>\n",
              "      <th>Nome</th>\n",
              "      <th>Produto</th>\n",
              "      <th>Valor</th>\n",
              "      <th>Em Estoque</th>\n",
              "    </tr>\n",
              "  </thead>\n",
              "  <tbody>\n",
              "    <tr>\n",
              "      <th>Loja 2</th>\n",
              "      <td>Leonardo</td>\n",
              "      <td>Passagem aerea</td>\n",
              "      <td>1800</td>\n",
              "      <td>Sim</td>\n",
              "    </tr>\n",
              "    <tr>\n",
              "      <th>Loja 3</th>\n",
              "      <td>Joao</td>\n",
              "      <td>Livro</td>\n",
              "      <td>50</td>\n",
              "      <td>Nao</td>\n",
              "    </tr>\n",
              "    <tr>\n",
              "      <th>Loja 4</th>\n",
              "      <td>Lucas</td>\n",
              "      <td>Cartao SD</td>\n",
              "      <td>65</td>\n",
              "      <td>Nao</td>\n",
              "    </tr>\n",
              "    <tr>\n",
              "      <th>Loja 5</th>\n",
              "      <td>Florenza</td>\n",
              "      <td>Caderno</td>\n",
              "      <td>15</td>\n",
              "      <td>Sim</td>\n",
              "    </tr>\n",
              "  </tbody>\n",
              "</table>\n",
              "</div>"
            ],
            "text/plain": [
              "            Nome         Produto Valor Em Estoque\n",
              "Loja 2  Leonardo  Passagem aerea  1800        Sim\n",
              "Loja 3      Joao           Livro    50        Nao\n",
              "Loja 4     Lucas       Cartao SD    65        Nao\n",
              "Loja 5  Florenza         Caderno    15        Sim"
            ]
          },
          "metadata": {
            "tags": []
          },
          "execution_count": 127
        }
      ]
    },
    {
      "cell_type": "markdown",
      "metadata": {
        "id": "xhzJhbbq0cbB",
        "colab_type": "text"
      },
      "source": [
        "Porém, caso seja desejável excluir uma linha em definitivo, o parâmetro **inplace** precisa receber True."
      ]
    },
    {
      "cell_type": "code",
      "metadata": {
        "id": "bPUvvL8g0iK5",
        "colab_type": "code",
        "outputId": "ceba4c62-1391-4e90-bbdc-3c6f6de66194",
        "colab": {
          "base_uri": "https://localhost:8080/",
          "height": 325
        }
      },
      "source": [
        "data_frame.drop(\"Loja 2\", inplace = True)\n"
      ],
      "execution_count": 0,
      "outputs": [
        {
          "output_type": "error",
          "ename": "KeyError",
          "evalue": "ignored",
          "traceback": [
            "\u001b[0;31m---------------------------------------------------------------------------\u001b[0m",
            "\u001b[0;31mKeyError\u001b[0m                                  Traceback (most recent call last)",
            "\u001b[0;32m<ipython-input-133-96fb61bd2aa9>\u001b[0m in \u001b[0;36m<module>\u001b[0;34m()\u001b[0m\n\u001b[0;32m----> 1\u001b[0;31m \u001b[0mdata_frame\u001b[0m\u001b[0;34m.\u001b[0m\u001b[0mdrop\u001b[0m\u001b[0;34m(\u001b[0m\u001b[0;34m\"Loja 2\"\u001b[0m\u001b[0;34m,\u001b[0m \u001b[0minplace\u001b[0m \u001b[0;34m=\u001b[0m \u001b[0;32mTrue\u001b[0m\u001b[0;34m)\u001b[0m\u001b[0;34m\u001b[0m\u001b[0;34m\u001b[0m\u001b[0m\n\u001b[0m",
            "\u001b[0;32m/usr/local/lib/python3.6/dist-packages/pandas/core/frame.py\u001b[0m in \u001b[0;36mdrop\u001b[0;34m(self, labels, axis, index, columns, level, inplace, errors)\u001b[0m\n\u001b[1;32m   3995\u001b[0m             \u001b[0mlevel\u001b[0m\u001b[0;34m=\u001b[0m\u001b[0mlevel\u001b[0m\u001b[0;34m,\u001b[0m\u001b[0;34m\u001b[0m\u001b[0;34m\u001b[0m\u001b[0m\n\u001b[1;32m   3996\u001b[0m             \u001b[0minplace\u001b[0m\u001b[0;34m=\u001b[0m\u001b[0minplace\u001b[0m\u001b[0;34m,\u001b[0m\u001b[0;34m\u001b[0m\u001b[0;34m\u001b[0m\u001b[0m\n\u001b[0;32m-> 3997\u001b[0;31m             \u001b[0merrors\u001b[0m\u001b[0;34m=\u001b[0m\u001b[0merrors\u001b[0m\u001b[0;34m,\u001b[0m\u001b[0;34m\u001b[0m\u001b[0;34m\u001b[0m\u001b[0m\n\u001b[0m\u001b[1;32m   3998\u001b[0m         )\n\u001b[1;32m   3999\u001b[0m \u001b[0;34m\u001b[0m\u001b[0m\n",
            "\u001b[0;32m/usr/local/lib/python3.6/dist-packages/pandas/core/generic.py\u001b[0m in \u001b[0;36mdrop\u001b[0;34m(self, labels, axis, index, columns, level, inplace, errors)\u001b[0m\n\u001b[1;32m   3934\u001b[0m         \u001b[0;32mfor\u001b[0m \u001b[0maxis\u001b[0m\u001b[0;34m,\u001b[0m \u001b[0mlabels\u001b[0m \u001b[0;32min\u001b[0m \u001b[0maxes\u001b[0m\u001b[0;34m.\u001b[0m\u001b[0mitems\u001b[0m\u001b[0;34m(\u001b[0m\u001b[0;34m)\u001b[0m\u001b[0;34m:\u001b[0m\u001b[0;34m\u001b[0m\u001b[0;34m\u001b[0m\u001b[0m\n\u001b[1;32m   3935\u001b[0m             \u001b[0;32mif\u001b[0m \u001b[0mlabels\u001b[0m \u001b[0;32mis\u001b[0m \u001b[0;32mnot\u001b[0m \u001b[0;32mNone\u001b[0m\u001b[0;34m:\u001b[0m\u001b[0;34m\u001b[0m\u001b[0;34m\u001b[0m\u001b[0m\n\u001b[0;32m-> 3936\u001b[0;31m                 \u001b[0mobj\u001b[0m \u001b[0;34m=\u001b[0m \u001b[0mobj\u001b[0m\u001b[0;34m.\u001b[0m\u001b[0m_drop_axis\u001b[0m\u001b[0;34m(\u001b[0m\u001b[0mlabels\u001b[0m\u001b[0;34m,\u001b[0m \u001b[0maxis\u001b[0m\u001b[0;34m,\u001b[0m \u001b[0mlevel\u001b[0m\u001b[0;34m=\u001b[0m\u001b[0mlevel\u001b[0m\u001b[0;34m,\u001b[0m \u001b[0merrors\u001b[0m\u001b[0;34m=\u001b[0m\u001b[0merrors\u001b[0m\u001b[0;34m)\u001b[0m\u001b[0;34m\u001b[0m\u001b[0;34m\u001b[0m\u001b[0m\n\u001b[0m\u001b[1;32m   3937\u001b[0m \u001b[0;34m\u001b[0m\u001b[0m\n\u001b[1;32m   3938\u001b[0m         \u001b[0;32mif\u001b[0m \u001b[0minplace\u001b[0m\u001b[0;34m:\u001b[0m\u001b[0;34m\u001b[0m\u001b[0;34m\u001b[0m\u001b[0m\n",
            "\u001b[0;32m/usr/local/lib/python3.6/dist-packages/pandas/core/generic.py\u001b[0m in \u001b[0;36m_drop_axis\u001b[0;34m(self, labels, axis, level, errors)\u001b[0m\n\u001b[1;32m   3968\u001b[0m                 \u001b[0mnew_axis\u001b[0m \u001b[0;34m=\u001b[0m \u001b[0maxis\u001b[0m\u001b[0;34m.\u001b[0m\u001b[0mdrop\u001b[0m\u001b[0;34m(\u001b[0m\u001b[0mlabels\u001b[0m\u001b[0;34m,\u001b[0m \u001b[0mlevel\u001b[0m\u001b[0;34m=\u001b[0m\u001b[0mlevel\u001b[0m\u001b[0;34m,\u001b[0m \u001b[0merrors\u001b[0m\u001b[0;34m=\u001b[0m\u001b[0merrors\u001b[0m\u001b[0;34m)\u001b[0m\u001b[0;34m\u001b[0m\u001b[0;34m\u001b[0m\u001b[0m\n\u001b[1;32m   3969\u001b[0m             \u001b[0;32melse\u001b[0m\u001b[0;34m:\u001b[0m\u001b[0;34m\u001b[0m\u001b[0;34m\u001b[0m\u001b[0m\n\u001b[0;32m-> 3970\u001b[0;31m                 \u001b[0mnew_axis\u001b[0m \u001b[0;34m=\u001b[0m \u001b[0maxis\u001b[0m\u001b[0;34m.\u001b[0m\u001b[0mdrop\u001b[0m\u001b[0;34m(\u001b[0m\u001b[0mlabels\u001b[0m\u001b[0;34m,\u001b[0m \u001b[0merrors\u001b[0m\u001b[0;34m=\u001b[0m\u001b[0merrors\u001b[0m\u001b[0;34m)\u001b[0m\u001b[0;34m\u001b[0m\u001b[0;34m\u001b[0m\u001b[0m\n\u001b[0m\u001b[1;32m   3971\u001b[0m             \u001b[0mresult\u001b[0m \u001b[0;34m=\u001b[0m \u001b[0mself\u001b[0m\u001b[0;34m.\u001b[0m\u001b[0mreindex\u001b[0m\u001b[0;34m(\u001b[0m\u001b[0;34m**\u001b[0m\u001b[0;34m{\u001b[0m\u001b[0maxis_name\u001b[0m\u001b[0;34m:\u001b[0m \u001b[0mnew_axis\u001b[0m\u001b[0;34m}\u001b[0m\u001b[0;34m)\u001b[0m\u001b[0;34m\u001b[0m\u001b[0;34m\u001b[0m\u001b[0m\n\u001b[1;32m   3972\u001b[0m \u001b[0;34m\u001b[0m\u001b[0m\n",
            "\u001b[0;32m/usr/local/lib/python3.6/dist-packages/pandas/core/indexes/base.py\u001b[0m in \u001b[0;36mdrop\u001b[0;34m(self, labels, errors)\u001b[0m\n\u001b[1;32m   5015\u001b[0m         \u001b[0;32mif\u001b[0m \u001b[0mmask\u001b[0m\u001b[0;34m.\u001b[0m\u001b[0many\u001b[0m\u001b[0;34m(\u001b[0m\u001b[0;34m)\u001b[0m\u001b[0;34m:\u001b[0m\u001b[0;34m\u001b[0m\u001b[0;34m\u001b[0m\u001b[0m\n\u001b[1;32m   5016\u001b[0m             \u001b[0;32mif\u001b[0m \u001b[0merrors\u001b[0m \u001b[0;34m!=\u001b[0m \u001b[0;34m\"ignore\"\u001b[0m\u001b[0;34m:\u001b[0m\u001b[0;34m\u001b[0m\u001b[0;34m\u001b[0m\u001b[0m\n\u001b[0;32m-> 5017\u001b[0;31m                 \u001b[0;32mraise\u001b[0m \u001b[0mKeyError\u001b[0m\u001b[0;34m(\u001b[0m\u001b[0;34mf\"{labels[mask]} not found in axis\"\u001b[0m\u001b[0;34m)\u001b[0m\u001b[0;34m\u001b[0m\u001b[0;34m\u001b[0m\u001b[0m\n\u001b[0m\u001b[1;32m   5018\u001b[0m             \u001b[0mindexer\u001b[0m \u001b[0;34m=\u001b[0m \u001b[0mindexer\u001b[0m\u001b[0;34m[\u001b[0m\u001b[0;34m~\u001b[0m\u001b[0mmask\u001b[0m\u001b[0;34m]\u001b[0m\u001b[0;34m\u001b[0m\u001b[0;34m\u001b[0m\u001b[0m\n\u001b[1;32m   5019\u001b[0m         \u001b[0;32mreturn\u001b[0m \u001b[0mself\u001b[0m\u001b[0;34m.\u001b[0m\u001b[0mdelete\u001b[0m\u001b[0;34m(\u001b[0m\u001b[0mindexer\u001b[0m\u001b[0;34m)\u001b[0m\u001b[0;34m\u001b[0m\u001b[0;34m\u001b[0m\u001b[0m\n",
            "\u001b[0;31mKeyError\u001b[0m: \"['Loja 2'] not found in axis\""
          ]
        }
      ]
    },
    {
      "cell_type": "code",
      "metadata": {
        "id": "mctHgz2p3Hr8",
        "colab_type": "code",
        "outputId": "45dddddd-17a5-4967-edc6-80ba3fffbc7d",
        "colab": {
          "base_uri": "https://localhost:8080/",
          "height": 175
        }
      },
      "source": [
        "data_frame"
      ],
      "execution_count": 0,
      "outputs": [
        {
          "output_type": "execute_result",
          "data": {
            "text/html": [
              "<div>\n",
              "<style scoped>\n",
              "    .dataframe tbody tr th:only-of-type {\n",
              "        vertical-align: middle;\n",
              "    }\n",
              "\n",
              "    .dataframe tbody tr th {\n",
              "        vertical-align: top;\n",
              "    }\n",
              "\n",
              "    .dataframe thead th {\n",
              "        text-align: right;\n",
              "    }\n",
              "</style>\n",
              "<table border=\"1\" class=\"dataframe\">\n",
              "  <thead>\n",
              "    <tr style=\"text-align: right;\">\n",
              "      <th></th>\n",
              "      <th>Nome</th>\n",
              "      <th>Produto</th>\n",
              "      <th>Valor</th>\n",
              "      <th>Em Estoque</th>\n",
              "    </tr>\n",
              "  </thead>\n",
              "  <tbody>\n",
              "    <tr>\n",
              "      <th>Loja 1</th>\n",
              "      <td>Gabriela</td>\n",
              "      <td>Nintendo Switch</td>\n",
              "      <td>2000</td>\n",
              "      <td>Sim</td>\n",
              "    </tr>\n",
              "    <tr>\n",
              "      <th>Loja 3</th>\n",
              "      <td>Joao</td>\n",
              "      <td>Livro</td>\n",
              "      <td>50</td>\n",
              "      <td>Nao</td>\n",
              "    </tr>\n",
              "    <tr>\n",
              "      <th>Loja 4</th>\n",
              "      <td>Lucas</td>\n",
              "      <td>Cartao SD</td>\n",
              "      <td>65</td>\n",
              "      <td>Nao</td>\n",
              "    </tr>\n",
              "    <tr>\n",
              "      <th>Loja 5</th>\n",
              "      <td>Florenza</td>\n",
              "      <td>Caderno</td>\n",
              "      <td>15</td>\n",
              "      <td>Sim</td>\n",
              "    </tr>\n",
              "  </tbody>\n",
              "</table>\n",
              "</div>"
            ],
            "text/plain": [
              "            Nome          Produto Valor Em Estoque\n",
              "Loja 1  Gabriela  Nintendo Switch  2000        Sim\n",
              "Loja 3      Joao            Livro    50        Nao\n",
              "Loja 4     Lucas        Cartao SD    65        Nao\n",
              "Loja 5  Florenza          Caderno    15        Sim"
            ]
          },
          "metadata": {
            "tags": []
          },
          "execution_count": 129
        }
      ]
    },
    {
      "cell_type": "markdown",
      "metadata": {
        "id": "eVKnPMIj4RzN",
        "colab_type": "text"
      },
      "source": [
        "A linha *Loja 2* foi excluida do data frame original."
      ]
    },
    {
      "cell_type": "markdown",
      "metadata": {
        "id": "mAAlElz_4fMO",
        "colab_type": "text"
      },
      "source": [
        "Assim como inplace, existem outros parâmetros padrões para quando nenhum valor for passado.\n",
        "\n",
        "Para definir a exclusão de uma coluna, o parâmetro **axis** precisa ser alterado para **1**.\n",
        "\n",
        "A função está pré-definida como **axis = 0**, ou seja, exluir linhas.\n",
        "\n"
      ]
    },
    {
      "cell_type": "code",
      "metadata": {
        "id": "QSQvHkNh3kj4",
        "colab_type": "code",
        "colab": {}
      },
      "source": [
        "data_frame.drop(\"Valor\", axis = 1, inplace = True)"
      ],
      "execution_count": 0,
      "outputs": []
    },
    {
      "cell_type": "code",
      "metadata": {
        "id": "adlkWOxS3wg2",
        "colab_type": "code",
        "outputId": "c0d6cb57-e442-4635-9333-f1b73b6b6aae",
        "colab": {
          "base_uri": "https://localhost:8080/",
          "height": 175
        }
      },
      "source": [
        "data_frame"
      ],
      "execution_count": 0,
      "outputs": [
        {
          "output_type": "execute_result",
          "data": {
            "text/html": [
              "<div>\n",
              "<style scoped>\n",
              "    .dataframe tbody tr th:only-of-type {\n",
              "        vertical-align: middle;\n",
              "    }\n",
              "\n",
              "    .dataframe tbody tr th {\n",
              "        vertical-align: top;\n",
              "    }\n",
              "\n",
              "    .dataframe thead th {\n",
              "        text-align: right;\n",
              "    }\n",
              "</style>\n",
              "<table border=\"1\" class=\"dataframe\">\n",
              "  <thead>\n",
              "    <tr style=\"text-align: right;\">\n",
              "      <th></th>\n",
              "      <th>Nome</th>\n",
              "      <th>Produto</th>\n",
              "      <th>Em Estoque</th>\n",
              "    </tr>\n",
              "  </thead>\n",
              "  <tbody>\n",
              "    <tr>\n",
              "      <th>Loja 1</th>\n",
              "      <td>Gabriela</td>\n",
              "      <td>Nintendo Switch</td>\n",
              "      <td>Sim</td>\n",
              "    </tr>\n",
              "    <tr>\n",
              "      <th>Loja 3</th>\n",
              "      <td>Joao</td>\n",
              "      <td>Livro</td>\n",
              "      <td>Nao</td>\n",
              "    </tr>\n",
              "    <tr>\n",
              "      <th>Loja 4</th>\n",
              "      <td>Lucas</td>\n",
              "      <td>Cartao SD</td>\n",
              "      <td>Nao</td>\n",
              "    </tr>\n",
              "    <tr>\n",
              "      <th>Loja 5</th>\n",
              "      <td>Florenza</td>\n",
              "      <td>Caderno</td>\n",
              "      <td>Sim</td>\n",
              "    </tr>\n",
              "  </tbody>\n",
              "</table>\n",
              "</div>"
            ],
            "text/plain": [
              "            Nome          Produto Em Estoque\n",
              "Loja 1  Gabriela  Nintendo Switch        Sim\n",
              "Loja 3      Joao            Livro        Nao\n",
              "Loja 4     Lucas        Cartao SD        Nao\n",
              "Loja 5  Florenza          Caderno        Sim"
            ]
          },
          "metadata": {
            "tags": []
          },
          "execution_count": 131
        }
      ]
    },
    {
      "cell_type": "code",
      "metadata": {
        "id": "MOINKHlW1hGU",
        "colab_type": "code",
        "colab": {}
      },
      "source": [
        ""
      ],
      "execution_count": 0,
      "outputs": []
    }
  ]
}