{
  "nbformat": 4,
  "nbformat_minor": 0,
  "metadata": {
    "colab": {
      "name": "Series Python",
      "provenance": [],
      "collapsed_sections": [],
      "authorship_tag": "ABX9TyNcQ9WJxav28IX/qECIpmWt"
    },
    "kernelspec": {
      "name": "python3",
      "display_name": "Python 3"
    }
  },
  "cells": [
    {
      "cell_type": "markdown",
      "metadata": {
        "id": "YfIjEUoWlTqr",
        "colab_type": "text"
      },
      "source": [
        "#Séries\n"
      ]
    },
    {
      "cell_type": "code",
      "metadata": {
        "id": "6YI66mkalQNU",
        "colab_type": "code",
        "colab": {}
      },
      "source": [
        "import numpy as np\n",
        "import pandas as pd\n",
        "import timeit"
      ],
      "execution_count": 0,
      "outputs": []
    },
    {
      "cell_type": "code",
      "metadata": {
        "id": "3mmSeDzemXaG",
        "colab_type": "code",
        "outputId": "18a9affe-c219-4b70-ebea-d0d7c7d2690f",
        "colab": {
          "base_uri": "https://localhost:8080/",
          "height": 90
        }
      },
      "source": [
        "animais = [\"Pato\", \"Cachorro\", \"Gato\"] #criando uma lista\n",
        "serie_animais = pd.Series(animais) #criando uma série a partir de uma lista\n",
        "serie_animais"
      ],
      "execution_count": 0,
      "outputs": [
        {
          "output_type": "execute_result",
          "data": {
            "text/plain": [
              "0        Pato\n",
              "1    Cachorro\n",
              "2        Gato\n",
              "dtype: object"
            ]
          },
          "metadata": {
            "tags": []
          },
          "execution_count": 6
        }
      ]
    },
    {
      "cell_type": "markdown",
      "metadata": {
        "id": "aQyln1LQnSOM",
        "colab_type": "text"
      },
      "source": [
        "A série serie_animais tem os **índices** 0, 1 e 2 para acessar os animais Pato,   Cachorro e Gato.\n",
        "\n",
        "É possível acessar a informação dessa série pelos índices usando **serie_animais.iloc[*índice*]**.\n"
      ]
    },
    {
      "cell_type": "code",
      "metadata": {
        "id": "DmzTu9DaouNA",
        "colab_type": "code",
        "outputId": "05b65536-fa12-48a8-9698-f0bee13f1567",
        "colab": {
          "base_uri": "https://localhost:8080/",
          "height": 72
        }
      },
      "source": [
        "print(serie_animais.iloc[0]) #acessando o primeiro indice\n",
        "print(serie_animais.iloc[1]) #acessando o segundo indice\n",
        "print(serie_animais.iloc[2]) #acessando o terceiro indice\n",
        "\n",
        "#notar que o primeiro indice não é o 1 e sim o 0"
      ],
      "execution_count": 0,
      "outputs": [
        {
          "output_type": "stream",
          "text": [
            "Pato\n",
            "Cachorro\n",
            "Gato\n"
          ],
          "name": "stdout"
        }
      ]
    },
    {
      "cell_type": "markdown",
      "metadata": {
        "id": "BXr66EzIpQGg",
        "colab_type": "text"
      },
      "source": [
        "Quando a série é criada a partir de um dicionário, pode-se usar outro método para acessar valores:\n",
        "\n"
      ]
    },
    {
      "cell_type": "code",
      "metadata": {
        "id": "H5kBjOj8pYC6",
        "colab_type": "code",
        "outputId": "6cf9395b-4235-415a-8960-ecc791599fbb",
        "colab": {
          "base_uri": "https://localhost:8080/",
          "height": 90
        }
      },
      "source": [
        "dicionario = {\"Gabriela\" : \"Amarelo\", \"Leonardo\": \"Roxo\", \"Joao\" : \"Vermelho\"} #criando uma dicionario\n",
        "serie_dic = pd.Series(dicionario) #criando uma série a partir de um dicionário\n",
        "serie_dic"
      ],
      "execution_count": 0,
      "outputs": [
        {
          "output_type": "execute_result",
          "data": {
            "text/plain": [
              "Gabriela     Amarelo\n",
              "Leonardo        Roxo\n",
              "Joao        Vermelho\n",
              "dtype: object"
            ]
          },
          "metadata": {
            "tags": []
          },
          "execution_count": 8
        }
      ]
    },
    {
      "cell_type": "markdown",
      "metadata": {
        "id": "5fap-mFfp_59",
        "colab_type": "text"
      },
      "source": [
        "Repare que agora temos um novo tipo de índice. Diferente da série anterior, os novos índices são **strings** que representam o **nome** de uma pessoa. Portanto, chamamos o método **.loc[\"*nome*\"]**.\n",
        "\n",
        "Mesmo com o novo índice sendo uma **string**, o **índice numérico** continua \"escondido\" por trás dessa estrutura de dados.\n",
        "\n",
        "\n",
        "Sendo assim, é possível acessar as informações pelo **nome** ou pelo **índice numérico**.\n",
        "\n",
        "Logo, quando se deseja saber o valor de um **nome** na série serie_dic, usa-se a função **serie_dic.loc[\"*nome*\"]** e o acesso pelo **índice numérico** continua sendo feito pela função **serie_dic.iloc[*índice*]**."
      ]
    },
    {
      "cell_type": "code",
      "metadata": {
        "id": "477JbHgWrtHr",
        "colab_type": "code",
        "outputId": "f763af78-041f-4822-f611-ed2c961f638c",
        "colab": {
          "base_uri": "https://localhost:8080/",
          "height": 90
        }
      },
      "source": [
        "print(serie_dic.loc[\"Gabriela\"]) #printando pelo nome\n",
        "print(\"\\n\")\n",
        "print(serie_dic.iloc[0]) #printando pelo índice"
      ],
      "execution_count": 0,
      "outputs": [
        {
          "output_type": "stream",
          "text": [
            "Amarelo\n",
            "\n",
            "\n",
            "Amarelo\n"
          ],
          "name": "stdout"
        }
      ]
    },
    {
      "cell_type": "markdown",
      "metadata": {
        "id": "o9v7UOSUsrWN",
        "colab_type": "text"
      },
      "source": [
        "Note que executando o comando **serie_dic[0]** acessamos o mesmo valor de **serie_dic.iloc[0]**."
      ]
    },
    {
      "cell_type": "code",
      "metadata": {
        "id": "KVdzMIHTs12S",
        "colab_type": "code",
        "outputId": "f72fa8c9-4b3f-4080-b0ce-d86fb7e76474",
        "colab": {
          "base_uri": "https://localhost:8080/",
          "height": 90
        }
      },
      "source": [
        "print(serie_dic[0])\n",
        "print(\"\\n\")\n",
        "print(serie_dic.iloc[0])"
      ],
      "execution_count": 0,
      "outputs": [
        {
          "output_type": "stream",
          "text": [
            "Amarelo\n",
            "\n",
            "\n",
            "Amarelo\n"
          ],
          "name": "stdout"
        }
      ]
    },
    {
      "cell_type": "markdown",
      "metadata": {
        "id": "XX46cL5_tYBO",
        "colab_type": "text"
      },
      "source": [
        "O mesmo vale para **serie_dic[\"Gabriela\"]** e **serie_dic.loc[\"Gabriela\"]**."
      ]
    },
    {
      "cell_type": "code",
      "metadata": {
        "id": "o48OGFlptYyV",
        "colab_type": "code",
        "outputId": "4c227c43-1154-48c9-95a7-4fa69568e764",
        "colab": {
          "base_uri": "https://localhost:8080/",
          "height": 90
        }
      },
      "source": [
        "print(serie_dic[\"Gabriela\"])\n",
        "print(\"\\n\")\n",
        "print(serie_dic.loc[\"Gabriela\"])"
      ],
      "execution_count": 0,
      "outputs": [
        {
          "output_type": "stream",
          "text": [
            "Amarelo\n",
            "\n",
            "\n",
            "Amarelo\n"
          ],
          "name": "stdout"
        }
      ]
    },
    {
      "cell_type": "markdown",
      "metadata": {
        "id": "vsgndO-Gt63N",
        "colab_type": "text"
      },
      "source": [
        "Mas essa síntaxe não é a mais indicada pois alguns \"acidentes\" podem acontecer dependendo de como a estrutura da série está organizada.\n"
      ]
    },
    {
      "cell_type": "code",
      "metadata": {
        "id": "HtvvHu3Pujz8",
        "colab_type": "code",
        "outputId": "d3fa1eef-b38e-478c-fda1-8a0e20f2b519",
        "colab": {
          "base_uri": "https://localhost:8080/",
          "height": 109
        }
      },
      "source": [
        "dic = {200 : \"Tijolo\", 4 : \"Saco de cimento\", 2 : \"Martelo\", 0 : \"Chave de fenda\"}\n",
        "materiais = pd.Series(dic)\n",
        "print(materiais)"
      ],
      "execution_count": 0,
      "outputs": [
        {
          "output_type": "stream",
          "text": [
            "200             Tijolo\n",
            "4      Saco de cimento\n",
            "2              Martelo\n",
            "0       Chave de fenda\n",
            "dtype: object\n"
          ],
          "name": "stdout"
        }
      ]
    },
    {
      "cell_type": "markdown",
      "metadata": {
        "id": "ZHVJNzqxvfjE",
        "colab_type": "text"
      },
      "source": [
        "Para o exemplo acima, tentando acessar **materiais[0]** e **materiais.iloc[0]** vamos ter valores diferentes."
      ]
    },
    {
      "cell_type": "code",
      "metadata": {
        "id": "RLSoJhuTvrsM",
        "colab_type": "code",
        "outputId": "62c75de6-b211-4272-87bb-2eca632063e8",
        "colab": {
          "base_uri": "https://localhost:8080/",
          "height": 90
        }
      },
      "source": [
        "print(materiais[0])\n",
        "print(\"\\n\")\n",
        "print(materiais.iloc[0])"
      ],
      "execution_count": 0,
      "outputs": [
        {
          "output_type": "stream",
          "text": [
            "Chave de fenda\n",
            "\n",
            "\n",
            "Tijolo\n"
          ],
          "name": "stdout"
        }
      ]
    },
    {
      "cell_type": "markdown",
      "metadata": {
        "id": "6LLmWu5jv8ol",
        "colab_type": "text"
      },
      "source": [
        "Nesse caso, acessar **materiais[0]** retorna o mesmo valor de **materiais.loc[0]**"
      ]
    },
    {
      "cell_type": "code",
      "metadata": {
        "id": "98sq03n3wHNJ",
        "colab_type": "code",
        "outputId": "359f98f9-3198-48c6-a5f5-90d2b17c2245",
        "colab": {
          "base_uri": "https://localhost:8080/",
          "height": 90
        }
      },
      "source": [
        "print(materiais[0])\n",
        "print(\"\\n\")\n",
        "print(materiais.loc[0])"
      ],
      "execution_count": 0,
      "outputs": [
        {
          "output_type": "stream",
          "text": [
            "Chave de fenda\n",
            "\n",
            "\n",
            "Chave de fenda\n"
          ],
          "name": "stdout"
        }
      ]
    },
    {
      "cell_type": "markdown",
      "metadata": {
        "id": "I16SsFCYwQpL",
        "colab_type": "text"
      },
      "source": [
        "Portanto, para fugir dessa ambiguidade, é recomendado se acostumar com as funções **.iloc** e **.loc**."
      ]
    },
    {
      "cell_type": "markdown",
      "metadata": {
        "id": "zK_9emjPxvpv",
        "colab_type": "text"
      },
      "source": [
        "Outra maneira de criar uma série:\n",
        "\n",
        "Vamos supor que já existe uma lista com os índices e uma lista com os valores."
      ]
    },
    {
      "cell_type": "code",
      "metadata": {
        "id": "en6kgu6vyPa0",
        "colab_type": "code",
        "outputId": "7e6e2c3e-bd20-4ce5-86cf-ccec977d21a5",
        "colab": {
          "base_uri": "https://localhost:8080/",
          "height": 256
        }
      },
      "source": [
        "lista_indice = [\"Gabriela\",\"Leonardo\",\"Joao\"]\n",
        "print(lista_indice)\n",
        "lista_valores = [\"Amarelo\",\"Roxo\",\"Vermelho\"]\n",
        "print(lista_valores)\n",
        "\n",
        "serie_2 = pd.Series(lista_valores, index = lista_indice)\n",
        "print(\"\\n\")\n",
        "print(serie_2)\n",
        "print(\"-------\"*3)\n",
        "print(serie_dic) #obtemos o mesmo resultado passando parametros diferentes"
      ],
      "execution_count": 0,
      "outputs": [
        {
          "output_type": "stream",
          "text": [
            "['Gabriela', 'Leonardo', 'Joao']\n",
            "['Amarelo', 'Roxo', 'Vermelho']\n",
            "\n",
            "\n",
            "Gabriela     Amarelo\n",
            "Leonardo        Roxo\n",
            "Joao        Vermelho\n",
            "dtype: object\n",
            "---------------------\n",
            "Gabriela     Amarelo\n",
            "Leonardo        Roxo\n",
            "Joao        Vermelho\n",
            "dtype: object\n"
          ],
          "name": "stdout"
        }
      ]
    },
    {
      "cell_type": "markdown",
      "metadata": {
        "id": "FdYQWclmA7ax",
        "colab_type": "text"
      },
      "source": [
        "#Índices da lista"
      ]
    },
    {
      "cell_type": "markdown",
      "metadata": {
        "id": "mQGrxwcE9RzR",
        "colab_type": "text"
      },
      "source": [
        "A maneira mais otimizada para retornar os índices de uma série é chamando o método **.index**.\n"
      ]
    },
    {
      "cell_type": "code",
      "metadata": {
        "id": "fO8hDq-49khU",
        "colab_type": "code",
        "outputId": "c93b43f9-dcf5-4f6b-f481-621b7f6473f9",
        "colab": {
          "base_uri": "https://localhost:8080/",
          "height": 90
        }
      },
      "source": [
        "lista_indice = serie_2.index\n",
        "print(lista_indice)\n",
        "\n",
        "print(\"\\nTipo da variavel 'lista_indice':\")\n",
        "print(type(lista_indice))"
      ],
      "execution_count": 0,
      "outputs": [
        {
          "output_type": "stream",
          "text": [
            "Index(['Gabriela', 'Leonardo', 'Joao'], dtype='object')\n",
            "\n",
            "Tipo da variavel 'lista_indice':\n",
            "<class 'pandas.core.indexes.base.Index'>\n"
          ],
          "name": "stdout"
        }
      ]
    },
    {
      "cell_type": "markdown",
      "metadata": {
        "id": "TvGcHGz7_LSS",
        "colab_type": "text"
      },
      "source": [
        "Vale a pena lembrar que a função **.index** não retorna uma lista convencional mas é possível percorre-la com um laço de maneira semelhante.\n",
        "\n",
        "\n"
      ]
    },
    {
      "cell_type": "code",
      "metadata": {
        "id": "gGtjbIsl_YE3",
        "colab_type": "code",
        "outputId": "b8e1686c-edae-4b67-a371-7deb93df6ab5",
        "colab": {
          "base_uri": "https://localhost:8080/",
          "height": 72
        }
      },
      "source": [
        "for i in lista_indice:\n",
        "  print(i)\n"
      ],
      "execution_count": 0,
      "outputs": [
        {
          "output_type": "stream",
          "text": [
            "Gabriela\n",
            "Leonardo\n",
            "Joao\n"
          ],
          "name": "stdout"
        }
      ]
    },
    {
      "cell_type": "markdown",
      "metadata": {
        "id": "x-WJo25qAufa",
        "colab_type": "text"
      },
      "source": [
        "#Percorrendo uma série\n",
        "\n",
        "## teste"
      ]
    },
    {
      "cell_type": "markdown",
      "metadata": {
        "id": "70Kk5I42Bq-U",
        "colab_type": "text"
      },
      "source": [
        "É possível percorrer uma série usando um laço **for**:"
      ]
    },
    {
      "cell_type": "code",
      "metadata": {
        "id": "YdkALgUzB-EL",
        "colab_type": "code",
        "outputId": "bf91cebe-9a1e-48f1-b8c8-75f4729cd7ed",
        "colab": {
          "base_uri": "https://localhost:8080/",
          "height": 182
        }
      },
      "source": [
        "for i in serie_2: #somente os valores da serie\n",
        "  print(i)\n",
        "\n",
        "print(\"\\n\")\n",
        "\n",
        "for k in serie_2.iteritems():\n",
        "  aux = k\n",
        "  print(k)\n",
        "\n",
        "print(type(aux))"
      ],
      "execution_count": 0,
      "outputs": [
        {
          "output_type": "stream",
          "text": [
            "Amarelo\n",
            "Roxo\n",
            "Vermelho\n",
            "\n",
            "\n",
            "('Gabriela', 'Amarelo')\n",
            "('Leonardo', 'Roxo')\n",
            "('Joao', 'Vermelho')\n",
            "<class 'tuple'>\n"
          ],
          "name": "stdout"
        }
      ]
    },
    {
      "cell_type": "markdown",
      "metadata": {
        "id": "9bt6pzyCFt5c",
        "colab_type": "text"
      },
      "source": [
        "Exemplos de iteração:"
      ]
    },
    {
      "cell_type": "code",
      "metadata": {
        "id": "CZjfFQp-EytW",
        "colab_type": "code",
        "outputId": "92e262a7-4989-4200-e7b6-5244406f5004",
        "colab": {
          "base_uri": "https://localhost:8080/",
          "height": 35
        }
      },
      "source": [
        "serie_3 = pd.Series([0,1,2])\n",
        "aux = 0\n",
        "\n",
        "for i in serie_3:\n",
        "  aux += i\n",
        "\n",
        "print(aux)\n",
        "\n",
        "#aux = 0 nao funciona\n",
        "#for k in serie_2.iteritems():\n",
        "#  aux += k\n"
      ],
      "execution_count": 0,
      "outputs": [
        {
          "output_type": "stream",
          "text": [
            "3\n"
          ],
          "name": "stdout"
        }
      ]
    },
    {
      "cell_type": "markdown",
      "metadata": {
        "id": "DZ9Ykhy7FnBM",
        "colab_type": "text"
      },
      "source": [
        "Sempre existirão métodos nativos de bibliotecas que otimizarão a iteração.\n",
        "\n",
        "Uma alternativa para percorrer uma série e somar valor por valor é usar o método **.sum()** da biblioteca NumPy."
      ]
    },
    {
      "cell_type": "code",
      "metadata": {
        "id": "XyjDmKrrJ3WP",
        "colab_type": "code",
        "outputId": "21645e00-6f5a-43f2-99e6-e6c377f29a68",
        "colab": {
          "base_uri": "https://localhost:8080/",
          "height": 274
        }
      },
      "source": [
        "#criando uma serie com 100000 numeros entre 0 e 100\n",
        "serie_4 = pd.Series(np.random.randint(0,100,100000))\n",
        "print(serie_4)\n",
        "print(\"\\n\")"
      ],
      "execution_count": 0,
      "outputs": [
        {
          "output_type": "stream",
          "text": [
            "0        81\n",
            "1        83\n",
            "2        18\n",
            "3        93\n",
            "4        94\n",
            "         ..\n",
            "99995    45\n",
            "99996     1\n",
            "99997    72\n",
            "99998     5\n",
            "99999    99\n",
            "Length: 100000, dtype: int64\n",
            "\n",
            "\n"
          ],
          "name": "stdout"
        }
      ]
    },
    {
      "cell_type": "code",
      "metadata": {
        "id": "8DWovzI6GOLk",
        "colab_type": "code",
        "outputId": "78fdfe26-1dca-4b21-f662-312eb8a2af1d",
        "colab": {
          "base_uri": "https://localhost:8080/",
          "height": 35
        }
      },
      "source": [
        "%%timeit -n 100\n",
        "aux = 0\n",
        "for i in serie_4:\n",
        "  aux += i"
      ],
      "execution_count": 0,
      "outputs": [
        {
          "output_type": "stream",
          "text": [
            "100 loops, best of 3: 10.6 ms per loop\n"
          ],
          "name": "stdout"
        }
      ]
    },
    {
      "cell_type": "code",
      "metadata": {
        "id": "vOIohnUYKCgq",
        "colab_type": "code",
        "outputId": "191b386f-9fc9-4282-df94-fe5671e6ccd5",
        "colab": {
          "base_uri": "https://localhost:8080/",
          "height": 35
        }
      },
      "source": [
        "%%timeit -n 100\n",
        "np.sum(serie_4)"
      ],
      "execution_count": 0,
      "outputs": [
        {
          "output_type": "stream",
          "text": [
            "100 loops, best of 3: 176 µs per loop\n"
          ],
          "name": "stdout"
        }
      ]
    },
    {
      "cell_type": "markdown",
      "metadata": {
        "id": "tu31ccftLMGB",
        "colab_type": "text"
      },
      "source": [
        "Comparando o laço com o método **.sum()**, é possível ver nitidamente a diferença no tempo de execução de um para outro.\n",
        "\n",
        "\n",
        "Artigo sobre o uso de laços em Python: https://medium.com/python-pandemonium/never-write-for-loops-again-91a5a4c84baf"
      ]
    },
    {
      "cell_type": "markdown",
      "metadata": {
        "id": "A4-i7Cl2D5jj",
        "colab_type": "text"
      },
      "source": [
        "#Adicionando um novo elemento em uma série"
      ]
    },
    {
      "cell_type": "markdown",
      "metadata": {
        "id": "pbni6eXpD_O2",
        "colab_type": "text"
      },
      "source": [
        "Vamos supor que queremos adicionar mais uma pessoa e sua cor favorita em nossa tabela. \n",
        "\n",
        "Basta usar a função **.loc[\"*novo_nome*\"] = \"*nova_cor*\"**."
      ]
    },
    {
      "cell_type": "code",
      "metadata": {
        "id": "7eW2fz04ENmK",
        "colab_type": "code",
        "outputId": "8add8d7a-48d5-4e13-ce7e-8c98a38ca922",
        "colab": {
          "base_uri": "https://localhost:8080/",
          "height": 90
        }
      },
      "source": [
        "print(serie_2)"
      ],
      "execution_count": 0,
      "outputs": [
        {
          "output_type": "stream",
          "text": [
            "Gabriela     Amarelo\n",
            "Leonardo        Roxo\n",
            "Joao        Vermelho\n",
            "dtype: object\n"
          ],
          "name": "stdout"
        }
      ]
    },
    {
      "cell_type": "code",
      "metadata": {
        "id": "AwIguhCpEr0D",
        "colab_type": "code",
        "outputId": "548b53c6-4e2d-4a78-c219-0e78045b6675",
        "colab": {
          "base_uri": "https://localhost:8080/",
          "height": 109
        }
      },
      "source": [
        "serie_2.loc[\"Lucas\"] = \"Cinza\" \n",
        "print(serie_2)"
      ],
      "execution_count": 0,
      "outputs": [
        {
          "output_type": "stream",
          "text": [
            "Gabriela     Amarelo\n",
            "Leonardo        Roxo\n",
            "Joao        Vermelho\n",
            "Lucas          Cinza\n",
            "dtype: object\n"
          ],
          "name": "stdout"
        }
      ]
    },
    {
      "cell_type": "markdown",
      "metadata": {
        "id": "-aNBdRl6FTJd",
        "colab_type": "text"
      },
      "source": [
        "Também podemos usar a função **.append()** para juntarmos uma nova série à outra:"
      ]
    },
    {
      "cell_type": "code",
      "metadata": {
        "id": "I1cOsbsfFu8M",
        "colab_type": "code",
        "outputId": "5b4bd9a7-a4c6-4182-f6cf-a29a9da1ee5a",
        "colab": {
          "base_uri": "https://localhost:8080/",
          "height": 237
        }
      },
      "source": [
        "serie_5 = pd.Series([\"Marrom\",\"Verde\"], index = [\"Florenza\",\"Sergio\"])\n",
        "print(serie_5)\n",
        "print(\"\\n\")\n",
        "serie_2 = serie_2.append(serie_5)\n",
        "print(serie_2)"
      ],
      "execution_count": 0,
      "outputs": [
        {
          "output_type": "stream",
          "text": [
            "Florenza    Marrom\n",
            "Sergio       Verde\n",
            "dtype: object\n",
            "\n",
            "\n",
            "Gabriela     Amarelo\n",
            "Leonardo        Roxo\n",
            "Joao        Vermelho\n",
            "Lucas          Cinza\n",
            "Florenza      Marrom\n",
            "Sergio         Verde\n",
            "dtype: object\n"
          ],
          "name": "stdout"
        }
      ]
    }
  ]
}