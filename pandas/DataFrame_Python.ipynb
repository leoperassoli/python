{
  "nbformat": 4,
  "nbformat_minor": 0,
  "metadata": {
    "colab": {
      "name": "DataFrame Python.ipynb",
      "provenance": [],
      "collapsed_sections": []
    },
    "kernelspec": {
      "name": "python3",
      "display_name": "Python 3"
    }
  },
  "cells": [
    {
      "cell_type": "markdown",
      "metadata": {
        "id": "GlH3dF39JENQ",
        "colab_type": "text"
      },
      "source": [
        "#Data Frame"
      ]
    },
    {
      "cell_type": "markdown",
      "metadata": {
        "id": "-FXviXHgJJsI",
        "colab_type": "text"
      },
      "source": [
        "Podemos comparar a estrutura de dados Data Frame com uma série contendo mais de uma coluna. \n",
        "\n",
        "Por definição, o Data Frame pode ser definido como uma série de **duas dimensões**.\n",
        "\n",
        "Cada coluna terá um denominação própria."
      ]
    },
    {
      "cell_type": "code",
      "metadata": {
        "id": "rKtn7ckvJBV3",
        "colab_type": "code",
        "colab": {}
      },
      "source": [
        "import pandas as pd"
      ],
      "execution_count": 0,
      "outputs": []
    },
    {
      "cell_type": "code",
      "metadata": {
        "id": "2Jg-yb0wKoma",
        "colab_type": "code",
        "outputId": "5aeadbfd-2000-4836-aca3-fc9f3e7ad387",
        "colab": {
          "base_uri": "https://localhost:8080/",
          "height": 311
        }
      },
      "source": [
        "usuario_1 = pd.Series([\"Gabriela\",\"Nintendo Switch\",2500], index = [\"Nome\",\"Produto\",\"Valor\"])\n",
        "usuario_2 = pd.Series([\"Leonardo\",\"Passagem aerea\", 1800], index = [\"Nome\",\"Produto\", \"Valor\"])\n",
        "usuario_3 = pd.Series([\"Joao\", \"Livro\", 50], index = [\"Nome\",\"Produto\", \"Valor\"])\n",
        "\n",
        "print(usuario_1)\n",
        "print(\"\\n\")\n",
        "print(usuario_2)\n",
        "print(\"\\n\")\n",
        "print(usuario_3)\n"
      ],
      "execution_count": 0,
      "outputs": [
        {
          "output_type": "stream",
          "text": [
            "Nome              Gabriela\n",
            "Produto    Nintendo Switch\n",
            "Valor                 2500\n",
            "dtype: object\n",
            "\n",
            "\n",
            "Nome             Leonardo\n",
            "Produto    Passagem aerea\n",
            "Valor                1800\n",
            "dtype: object\n",
            "\n",
            "\n",
            "Nome        Joao\n",
            "Produto    Livro\n",
            "Valor         50\n",
            "dtype: object\n"
          ],
          "name": "stdout"
        }
      ]
    },
    {
      "cell_type": "code",
      "metadata": {
        "id": "meh0_-LXMemO",
        "colab_type": "code",
        "outputId": "6c36fab4-4d72-452f-bb1a-c4a722600ea8",
        "colab": {
          "base_uri": "https://localhost:8080/",
          "height": 143
        }
      },
      "source": [
        "data_frame = pd.DataFrame([usuario_1,usuario_2,usuario_3], index = [\"Loja 1\",\"Loja 2\",\"Loja 3\"])\n",
        "data_frame"
      ],
      "execution_count": 0,
      "outputs": [
        {
          "output_type": "execute_result",
          "data": {
            "text/html": [
              "<div>\n",
              "<style scoped>\n",
              "    .dataframe tbody tr th:only-of-type {\n",
              "        vertical-align: middle;\n",
              "    }\n",
              "\n",
              "    .dataframe tbody tr th {\n",
              "        vertical-align: top;\n",
              "    }\n",
              "\n",
              "    .dataframe thead th {\n",
              "        text-align: right;\n",
              "    }\n",
              "</style>\n",
              "<table border=\"1\" class=\"dataframe\">\n",
              "  <thead>\n",
              "    <tr style=\"text-align: right;\">\n",
              "      <th></th>\n",
              "      <th>Nome</th>\n",
              "      <th>Produto</th>\n",
              "      <th>Valor</th>\n",
              "    </tr>\n",
              "  </thead>\n",
              "  <tbody>\n",
              "    <tr>\n",
              "      <th>Loja 1</th>\n",
              "      <td>Gabriela</td>\n",
              "      <td>Nintendo Switch</td>\n",
              "      <td>2500</td>\n",
              "    </tr>\n",
              "    <tr>\n",
              "      <th>Loja 2</th>\n",
              "      <td>Leonardo</td>\n",
              "      <td>Passagem aerea</td>\n",
              "      <td>1800</td>\n",
              "    </tr>\n",
              "    <tr>\n",
              "      <th>Loja 3</th>\n",
              "      <td>Joao</td>\n",
              "      <td>Livro</td>\n",
              "      <td>50</td>\n",
              "    </tr>\n",
              "  </tbody>\n",
              "</table>\n",
              "</div>"
            ],
            "text/plain": [
              "            Nome          Produto  Valor\n",
              "Loja 1  Gabriela  Nintendo Switch   2500\n",
              "Loja 2  Leonardo   Passagem aerea   1800\n",
              "Loja 3      Joao            Livro     50"
            ]
          },
          "metadata": {
            "tags": []
          },
          "execution_count": 139
        }
      ]
    },
    {
      "cell_type": "markdown",
      "metadata": {
        "id": "GspgEvrFOdUO",
        "colab_type": "text"
      },
      "source": [
        "No nosso exemplo, as três séries foram unidas formando um data frame.\n",
        "\n",
        "Assim como em uma série, podemos usar as funções **.iloc[*índice_numérico*]** e **.loc[\"*índice*\"]** para resgatar os valores das linhas da tabela:"
      ]
    },
    {
      "cell_type": "code",
      "metadata": {
        "id": "LKezxYqkOo5I",
        "colab_type": "code",
        "outputId": "0de04211-d896-4fd9-e064-4e8e22a8a671",
        "colab": {
          "base_uri": "https://localhost:8080/",
          "height": 201
        }
      },
      "source": [
        "print(data_frame.loc[\"Loja 1\"])\n",
        "print(\"\\n\")\n",
        "print(data_frame.iloc[0])\n"
      ],
      "execution_count": 0,
      "outputs": [
        {
          "output_type": "stream",
          "text": [
            "Nome              Gabriela\n",
            "Produto    Nintendo Switch\n",
            "Valor                 2500\n",
            "Name: Loja 1, dtype: object\n",
            "\n",
            "\n",
            "Nome              Gabriela\n",
            "Produto    Nintendo Switch\n",
            "Valor                 2500\n",
            "Name: Loja 1, dtype: object\n"
          ],
          "name": "stdout"
        }
      ]
    },
    {
      "cell_type": "markdown",
      "metadata": {
        "id": "gtzuwzWxQvXI",
        "colab_type": "text"
      },
      "source": [
        "**É importante lembrar que: os índices númericos são sempre uma maneira de acessar os valores.**"
      ]
    },
    {
      "cell_type": "markdown",
      "metadata": {
        "id": "OgRwljyminjQ",
        "colab_type": "text"
      },
      "source": [
        "Diferentemente das séries, temos informações referentes a *linhas* e *colunas*.\n",
        "\n",
        "Sabemos que as informações das *linhas* serão obtidas por **.loc[\"*indice*\"]** ou **.iloc[*índice_numérico*]**.\n",
        "\n",
        "Já as informações das *colunas* serão resgatadas trivialmente, ou seja, **data_frame[\"*nome_coluna*\"]**."
      ]
    },
    {
      "cell_type": "code",
      "metadata": {
        "id": "sYeyob0phikm",
        "colab_type": "code",
        "outputId": "5a8f28f1-b5f8-4bd2-905e-73ecdd0ffa79",
        "colab": {
          "base_uri": "https://localhost:8080/",
          "height": 311
        }
      },
      "source": [
        "#temos as colunas Nome, Produto e Valor:\n",
        "print(data_frame[\"Nome\"])\n",
        "print(\"\\n\")\n",
        "print(data_frame[\"Produto\"])\n",
        "print(\"\\n\")\n",
        "print(data_frame[\"Valor\"])"
      ],
      "execution_count": 0,
      "outputs": [
        {
          "output_type": "stream",
          "text": [
            "Loja 1    Gabriela\n",
            "Loja 2    Leonardo\n",
            "Loja 3        Joao\n",
            "Name: Nome, dtype: object\n",
            "\n",
            "\n",
            "Loja 1    Nintendo Switch\n",
            "Loja 2     Passagem aerea\n",
            "Loja 3              Livro\n",
            "Name: Produto, dtype: object\n",
            "\n",
            "\n",
            "Loja 1    2500\n",
            "Loja 2    1800\n",
            "Loja 3      50\n",
            "Name: Valor, dtype: int64\n"
          ],
          "name": "stdout"
        }
      ]
    },
    {
      "cell_type": "markdown",
      "metadata": {
        "id": "reZmkXZhm4Me",
        "colab_type": "text"
      },
      "source": [
        "Dado nosso exemplo, vamos supor que é desejado separar apenas o *Produto* que foi comprado na *Loja 1*:"
      ]
    },
    {
      "cell_type": "code",
      "metadata": {
        "id": "FpzI1s4xnkhE",
        "colab_type": "code",
        "outputId": "bc2f9b5c-1e1a-4dcf-9efd-0bf4943831c3",
        "colab": {
          "base_uri": "https://localhost:8080/",
          "height": 35
        }
      },
      "source": [
        "print(data_frame.loc[\"Loja 1\", \"Produto\"])"
      ],
      "execution_count": 0,
      "outputs": [
        {
          "output_type": "stream",
          "text": [
            "Nintendo Switch\n"
          ],
          "name": "stdout"
        }
      ]
    },
    {
      "cell_type": "markdown",
      "metadata": {
        "id": "PXUWh1PDn0j2",
        "colab_type": "text"
      },
      "source": [
        "Podemos então usar a função **.loc** definindo as informações que queremos retornar.\n",
        "\n",
        "Usar slicing é um recurso muito útil também:"
      ]
    },
    {
      "cell_type": "code",
      "metadata": {
        "id": "oYFdhdvxoYoM",
        "colab_type": "code",
        "outputId": "12d9bc5a-ae97-4960-beb2-bc7f1c3f9c56",
        "colab": {
          "base_uri": "https://localhost:8080/",
          "height": 182
        }
      },
      "source": [
        "print(data_frame.loc[\"Loja 2\":, \"Produto\"])\n",
        "print(\"\\n\")\n",
        "print(data_frame.loc[\"Loja 1\",:]) # : equivale a Nome:Valor"
      ],
      "execution_count": 0,
      "outputs": [
        {
          "output_type": "stream",
          "text": [
            "Loja 2    Passagem aerea\n",
            "Loja 3             Livro\n",
            "Name: Produto, dtype: object\n",
            "\n",
            "\n",
            "Nome              Gabriela\n",
            "Produto    Nintendo Switch\n",
            "Valor                 2500\n",
            "Name: Loja 1, dtype: object\n"
          ],
          "name": "stdout"
        }
      ]
    },
    {
      "cell_type": "markdown",
      "metadata": {
        "id": "DO8E1Yogrnvy",
        "colab_type": "text"
      },
      "source": [
        "É possível encadear a função **.loc** para obter o mesmo resultado de antes:"
      ]
    },
    {
      "cell_type": "code",
      "metadata": {
        "id": "Oaj6Rt0nq7Pp",
        "colab_type": "code",
        "outputId": "a5adb5a9-2aae-4983-b1ad-1543ca870947",
        "colab": {
          "base_uri": "https://localhost:8080/",
          "height": 54
        }
      },
      "source": [
        "print(data_frame.loc[\"Loja 1\", \"Valor\"])\n",
        "print(data_frame.loc[\"Loja 1\"][\"Valor\"])"
      ],
      "execution_count": 0,
      "outputs": [
        {
          "output_type": "stream",
          "text": [
            "2500\n",
            "2500\n"
          ],
          "name": "stdout"
        }
      ]
    },
    {
      "cell_type": "markdown",
      "metadata": {
        "id": "vQvrdwd3r8pZ",
        "colab_type": "text"
      },
      "source": [
        "Porém, o encadeamento geralmente gera uma cópia do data frame original.\n",
        "\n",
        "Logo, qualquer alteração nessa cópia não alterará o data frame original."
      ]
    },
    {
      "cell_type": "code",
      "metadata": {
        "id": "loPmz8NkruM0",
        "colab_type": "code",
        "outputId": "996c9be2-cbb8-4e65-b228-ea7abeab8c09",
        "colab": {
          "base_uri": "https://localhost:8080/",
          "height": 109
        }
      },
      "source": [
        "data_frame.loc[\"Loja 1\", \"Valor\"] = 2000 \n",
        "data_frame.loc[\"Loja 2\"][\"Valor\"] = 30 #nao ira mudar"
      ],
      "execution_count": 0,
      "outputs": [
        {
          "output_type": "stream",
          "text": [
            "/usr/local/lib/python3.6/dist-packages/ipykernel_launcher.py:2: SettingWithCopyWarning: \n",
            "A value is trying to be set on a copy of a slice from a DataFrame\n",
            "\n",
            "See the caveats in the documentation: https://pandas.pydata.org/pandas-docs/stable/user_guide/indexing.html#returning-a-view-versus-a-copy\n",
            "  \n"
          ],
          "name": "stderr"
        }
      ]
    },
    {
      "cell_type": "code",
      "metadata": {
        "id": "cwZzl0a7r5ts",
        "colab_type": "code",
        "outputId": "723fa02b-a5c4-433b-89a2-7f37241c9b35",
        "colab": {
          "base_uri": "https://localhost:8080/",
          "height": 143
        }
      },
      "source": [
        "data_frame"
      ],
      "execution_count": 0,
      "outputs": [
        {
          "output_type": "execute_result",
          "data": {
            "text/html": [
              "<div>\n",
              "<style scoped>\n",
              "    .dataframe tbody tr th:only-of-type {\n",
              "        vertical-align: middle;\n",
              "    }\n",
              "\n",
              "    .dataframe tbody tr th {\n",
              "        vertical-align: top;\n",
              "    }\n",
              "\n",
              "    .dataframe thead th {\n",
              "        text-align: right;\n",
              "    }\n",
              "</style>\n",
              "<table border=\"1\" class=\"dataframe\">\n",
              "  <thead>\n",
              "    <tr style=\"text-align: right;\">\n",
              "      <th></th>\n",
              "      <th>Nome</th>\n",
              "      <th>Produto</th>\n",
              "      <th>Valor</th>\n",
              "    </tr>\n",
              "  </thead>\n",
              "  <tbody>\n",
              "    <tr>\n",
              "      <th>Loja 1</th>\n",
              "      <td>Gabriela</td>\n",
              "      <td>Nintendo Switch</td>\n",
              "      <td>2000</td>\n",
              "    </tr>\n",
              "    <tr>\n",
              "      <th>Loja 2</th>\n",
              "      <td>Leonardo</td>\n",
              "      <td>Passagem aerea</td>\n",
              "      <td>1800</td>\n",
              "    </tr>\n",
              "    <tr>\n",
              "      <th>Loja 3</th>\n",
              "      <td>Joao</td>\n",
              "      <td>Livro</td>\n",
              "      <td>50</td>\n",
              "    </tr>\n",
              "  </tbody>\n",
              "</table>\n",
              "</div>"
            ],
            "text/plain": [
              "            Nome          Produto  Valor\n",
              "Loja 1  Gabriela  Nintendo Switch   2000\n",
              "Loja 2  Leonardo   Passagem aerea   1800\n",
              "Loja 3      Joao            Livro     50"
            ]
          },
          "metadata": {
            "tags": []
          },
          "execution_count": 146
        }
      ]
    },
    {
      "cell_type": "markdown",
      "metadata": {
        "id": "Bl4RzlyM7c7y",
        "colab_type": "text"
      },
      "source": [
        "#Adicionando nova linha ou coluna"
      ]
    },
    {
      "cell_type": "markdown",
      "metadata": {
        "id": "jXZFGra59WF9",
        "colab_type": "text"
      },
      "source": [
        "Uma nova linha pode ser criada chamando **.loc[\"*índice*\"]** em um índice não existente do data frame e atribuindo os valores desejados:"
      ]
    },
    {
      "cell_type": "code",
      "metadata": {
        "id": "CNRTEY3k7vgn",
        "colab_type": "code",
        "outputId": "ca20fefc-354a-420e-b6fd-197ac75e8fdd",
        "colab": {
          "base_uri": "https://localhost:8080/",
          "height": 175
        }
      },
      "source": [
        "data_frame.loc[\"Loja 4\"] = [\"Lucas\",\"Cartao SD\",\"65\"]\n",
        "data_frame"
      ],
      "execution_count": 0,
      "outputs": [
        {
          "output_type": "execute_result",
          "data": {
            "text/html": [
              "<div>\n",
              "<style scoped>\n",
              "    .dataframe tbody tr th:only-of-type {\n",
              "        vertical-align: middle;\n",
              "    }\n",
              "\n",
              "    .dataframe tbody tr th {\n",
              "        vertical-align: top;\n",
              "    }\n",
              "\n",
              "    .dataframe thead th {\n",
              "        text-align: right;\n",
              "    }\n",
              "</style>\n",
              "<table border=\"1\" class=\"dataframe\">\n",
              "  <thead>\n",
              "    <tr style=\"text-align: right;\">\n",
              "      <th></th>\n",
              "      <th>Nome</th>\n",
              "      <th>Produto</th>\n",
              "      <th>Valor</th>\n",
              "    </tr>\n",
              "  </thead>\n",
              "  <tbody>\n",
              "    <tr>\n",
              "      <th>Loja 1</th>\n",
              "      <td>Gabriela</td>\n",
              "      <td>Nintendo Switch</td>\n",
              "      <td>2000</td>\n",
              "    </tr>\n",
              "    <tr>\n",
              "      <th>Loja 2</th>\n",
              "      <td>Leonardo</td>\n",
              "      <td>Passagem aerea</td>\n",
              "      <td>1800</td>\n",
              "    </tr>\n",
              "    <tr>\n",
              "      <th>Loja 3</th>\n",
              "      <td>Joao</td>\n",
              "      <td>Livro</td>\n",
              "      <td>50</td>\n",
              "    </tr>\n",
              "    <tr>\n",
              "      <th>Loja 4</th>\n",
              "      <td>Lucas</td>\n",
              "      <td>Cartao SD</td>\n",
              "      <td>65</td>\n",
              "    </tr>\n",
              "  </tbody>\n",
              "</table>\n",
              "</div>"
            ],
            "text/plain": [
              "            Nome          Produto Valor\n",
              "Loja 1  Gabriela  Nintendo Switch  2000\n",
              "Loja 2  Leonardo   Passagem aerea  1800\n",
              "Loja 3      Joao            Livro    50\n",
              "Loja 4     Lucas        Cartao SD    65"
            ]
          },
          "metadata": {
            "tags": []
          },
          "execution_count": 147
        }
      ]
    },
    {
      "cell_type": "code",
      "metadata": {
        "id": "DFJRXvNm9mWp",
        "colab_type": "code",
        "outputId": "230dd7de-3df1-4fdd-a684-4f57fa3f8f06",
        "colab": {
          "base_uri": "https://localhost:8080/",
          "height": 81
        }
      },
      "source": [
        "apd = pd.DataFrame({\"Nome\" : \"Florenza\",\"Produto\" : \"Caderno\",\"Valor\" : \"15\"}, index = [\"Loja 5\"])\n",
        "apd"
      ],
      "execution_count": 0,
      "outputs": [
        {
          "output_type": "execute_result",
          "data": {
            "text/html": [
              "<div>\n",
              "<style scoped>\n",
              "    .dataframe tbody tr th:only-of-type {\n",
              "        vertical-align: middle;\n",
              "    }\n",
              "\n",
              "    .dataframe tbody tr th {\n",
              "        vertical-align: top;\n",
              "    }\n",
              "\n",
              "    .dataframe thead th {\n",
              "        text-align: right;\n",
              "    }\n",
              "</style>\n",
              "<table border=\"1\" class=\"dataframe\">\n",
              "  <thead>\n",
              "    <tr style=\"text-align: right;\">\n",
              "      <th></th>\n",
              "      <th>Nome</th>\n",
              "      <th>Produto</th>\n",
              "      <th>Valor</th>\n",
              "    </tr>\n",
              "  </thead>\n",
              "  <tbody>\n",
              "    <tr>\n",
              "      <th>Loja 5</th>\n",
              "      <td>Florenza</td>\n",
              "      <td>Caderno</td>\n",
              "      <td>15</td>\n",
              "    </tr>\n",
              "  </tbody>\n",
              "</table>\n",
              "</div>"
            ],
            "text/plain": [
              "            Nome  Produto Valor\n",
              "Loja 5  Florenza  Caderno    15"
            ]
          },
          "metadata": {
            "tags": []
          },
          "execution_count": 148
        }
      ]
    },
    {
      "cell_type": "markdown",
      "metadata": {
        "id": "VfzTaiCW_Do3",
        "colab_type": "text"
      },
      "source": [
        "Com a função **.append(\"*nome_data_frame*\")**, podemos aglutinar dois data frames:"
      ]
    },
    {
      "cell_type": "code",
      "metadata": {
        "id": "IkXLfHGe_Wk6",
        "colab_type": "code",
        "outputId": "0e3b5ba9-7a88-4554-f016-48f6e40792a4",
        "colab": {
          "base_uri": "https://localhost:8080/",
          "height": 206
        }
      },
      "source": [
        "data_frame = data_frame.append(apd)\n",
        "data_frame"
      ],
      "execution_count": 0,
      "outputs": [
        {
          "output_type": "execute_result",
          "data": {
            "text/html": [
              "<div>\n",
              "<style scoped>\n",
              "    .dataframe tbody tr th:only-of-type {\n",
              "        vertical-align: middle;\n",
              "    }\n",
              "\n",
              "    .dataframe tbody tr th {\n",
              "        vertical-align: top;\n",
              "    }\n",
              "\n",
              "    .dataframe thead th {\n",
              "        text-align: right;\n",
              "    }\n",
              "</style>\n",
              "<table border=\"1\" class=\"dataframe\">\n",
              "  <thead>\n",
              "    <tr style=\"text-align: right;\">\n",
              "      <th></th>\n",
              "      <th>Nome</th>\n",
              "      <th>Produto</th>\n",
              "      <th>Valor</th>\n",
              "    </tr>\n",
              "  </thead>\n",
              "  <tbody>\n",
              "    <tr>\n",
              "      <th>Loja 1</th>\n",
              "      <td>Gabriela</td>\n",
              "      <td>Nintendo Switch</td>\n",
              "      <td>2000</td>\n",
              "    </tr>\n",
              "    <tr>\n",
              "      <th>Loja 2</th>\n",
              "      <td>Leonardo</td>\n",
              "      <td>Passagem aerea</td>\n",
              "      <td>1800</td>\n",
              "    </tr>\n",
              "    <tr>\n",
              "      <th>Loja 3</th>\n",
              "      <td>Joao</td>\n",
              "      <td>Livro</td>\n",
              "      <td>50</td>\n",
              "    </tr>\n",
              "    <tr>\n",
              "      <th>Loja 4</th>\n",
              "      <td>Lucas</td>\n",
              "      <td>Cartao SD</td>\n",
              "      <td>65</td>\n",
              "    </tr>\n",
              "    <tr>\n",
              "      <th>Loja 5</th>\n",
              "      <td>Florenza</td>\n",
              "      <td>Caderno</td>\n",
              "      <td>15</td>\n",
              "    </tr>\n",
              "  </tbody>\n",
              "</table>\n",
              "</div>"
            ],
            "text/plain": [
              "            Nome          Produto Valor\n",
              "Loja 1  Gabriela  Nintendo Switch  2000\n",
              "Loja 2  Leonardo   Passagem aerea  1800\n",
              "Loja 3      Joao            Livro    50\n",
              "Loja 4     Lucas        Cartao SD    65\n",
              "Loja 5  Florenza          Caderno    15"
            ]
          },
          "metadata": {
            "tags": []
          },
          "execution_count": 149
        }
      ]
    },
    {
      "cell_type": "markdown",
      "metadata": {
        "id": "RNHhiJqo_ftD",
        "colab_type": "text"
      },
      "source": [
        "A coluna é criada de maneira parecida.\n",
        "\n",
        "Basta acessar diretamente uma coluna não existente e atribuir os valores:"
      ]
    },
    {
      "cell_type": "code",
      "metadata": {
        "id": "AMvbSRPeAZgE",
        "colab_type": "code",
        "outputId": "d5deb1c0-933f-4887-cafd-8de30411cf8e",
        "colab": {
          "base_uri": "https://localhost:8080/",
          "height": 206
        }
      },
      "source": [
        "data_frame[\"Em Estoque\"] = [\"Sim\",\"Sim\",\"Nao\",\"Nao\",\"Sim\"]\n",
        "data_frame"
      ],
      "execution_count": 0,
      "outputs": [
        {
          "output_type": "execute_result",
          "data": {
            "text/html": [
              "<div>\n",
              "<style scoped>\n",
              "    .dataframe tbody tr th:only-of-type {\n",
              "        vertical-align: middle;\n",
              "    }\n",
              "\n",
              "    .dataframe tbody tr th {\n",
              "        vertical-align: top;\n",
              "    }\n",
              "\n",
              "    .dataframe thead th {\n",
              "        text-align: right;\n",
              "    }\n",
              "</style>\n",
              "<table border=\"1\" class=\"dataframe\">\n",
              "  <thead>\n",
              "    <tr style=\"text-align: right;\">\n",
              "      <th></th>\n",
              "      <th>Nome</th>\n",
              "      <th>Produto</th>\n",
              "      <th>Valor</th>\n",
              "      <th>Em Estoque</th>\n",
              "    </tr>\n",
              "  </thead>\n",
              "  <tbody>\n",
              "    <tr>\n",
              "      <th>Loja 1</th>\n",
              "      <td>Gabriela</td>\n",
              "      <td>Nintendo Switch</td>\n",
              "      <td>2000</td>\n",
              "      <td>Sim</td>\n",
              "    </tr>\n",
              "    <tr>\n",
              "      <th>Loja 2</th>\n",
              "      <td>Leonardo</td>\n",
              "      <td>Passagem aerea</td>\n",
              "      <td>1800</td>\n",
              "      <td>Sim</td>\n",
              "    </tr>\n",
              "    <tr>\n",
              "      <th>Loja 3</th>\n",
              "      <td>Joao</td>\n",
              "      <td>Livro</td>\n",
              "      <td>50</td>\n",
              "      <td>Nao</td>\n",
              "    </tr>\n",
              "    <tr>\n",
              "      <th>Loja 4</th>\n",
              "      <td>Lucas</td>\n",
              "      <td>Cartao SD</td>\n",
              "      <td>65</td>\n",
              "      <td>Nao</td>\n",
              "    </tr>\n",
              "    <tr>\n",
              "      <th>Loja 5</th>\n",
              "      <td>Florenza</td>\n",
              "      <td>Caderno</td>\n",
              "      <td>15</td>\n",
              "      <td>Sim</td>\n",
              "    </tr>\n",
              "  </tbody>\n",
              "</table>\n",
              "</div>"
            ],
            "text/plain": [
              "            Nome          Produto Valor Em Estoque\n",
              "Loja 1  Gabriela  Nintendo Switch  2000        Sim\n",
              "Loja 2  Leonardo   Passagem aerea  1800        Sim\n",
              "Loja 3      Joao            Livro    50        Nao\n",
              "Loja 4     Lucas        Cartao SD    65        Nao\n",
              "Loja 5  Florenza          Caderno    15        Sim"
            ]
          },
          "metadata": {
            "tags": []
          },
          "execution_count": 150
        }
      ]
    },
    {
      "cell_type": "markdown",
      "metadata": {
        "id": "UfaSgBCc8vk-",
        "colab_type": "text"
      },
      "source": [
        "# Excluindo linha ou coluna do Data Frame"
      ]
    },
    {
      "cell_type": "markdown",
      "metadata": {
        "id": "m_nQZFb7_lcj",
        "colab_type": "text"
      },
      "source": [
        "Existe mais de uma maneira para manipular um data frame de maneira que o resultado seja uma parte do data frame original.\n",
        "\n",
        "Mas a principal função **.drop(\"*índice*\")** irá criar uma copia do data frame original sem a coluna passada por referência."
      ]
    },
    {
      "cell_type": "code",
      "metadata": {
        "id": "j0P4PXR-8-oL",
        "colab_type": "code",
        "outputId": "27345e97-437c-46c4-d02c-6c4394528b85",
        "colab": {
          "base_uri": "https://localhost:8080/",
          "height": 175
        }
      },
      "source": [
        "data_frame.drop(\"Loja 1\")\n"
      ],
      "execution_count": 0,
      "outputs": [
        {
          "output_type": "execute_result",
          "data": {
            "text/html": [
              "<div>\n",
              "<style scoped>\n",
              "    .dataframe tbody tr th:only-of-type {\n",
              "        vertical-align: middle;\n",
              "    }\n",
              "\n",
              "    .dataframe tbody tr th {\n",
              "        vertical-align: top;\n",
              "    }\n",
              "\n",
              "    .dataframe thead th {\n",
              "        text-align: right;\n",
              "    }\n",
              "</style>\n",
              "<table border=\"1\" class=\"dataframe\">\n",
              "  <thead>\n",
              "    <tr style=\"text-align: right;\">\n",
              "      <th></th>\n",
              "      <th>Nome</th>\n",
              "      <th>Produto</th>\n",
              "      <th>Valor</th>\n",
              "      <th>Em Estoque</th>\n",
              "    </tr>\n",
              "  </thead>\n",
              "  <tbody>\n",
              "    <tr>\n",
              "      <th>Loja 2</th>\n",
              "      <td>Leonardo</td>\n",
              "      <td>Passagem aerea</td>\n",
              "      <td>1800</td>\n",
              "      <td>Sim</td>\n",
              "    </tr>\n",
              "    <tr>\n",
              "      <th>Loja 3</th>\n",
              "      <td>Joao</td>\n",
              "      <td>Livro</td>\n",
              "      <td>50</td>\n",
              "      <td>Nao</td>\n",
              "    </tr>\n",
              "    <tr>\n",
              "      <th>Loja 4</th>\n",
              "      <td>Lucas</td>\n",
              "      <td>Cartao SD</td>\n",
              "      <td>65</td>\n",
              "      <td>Nao</td>\n",
              "    </tr>\n",
              "    <tr>\n",
              "      <th>Loja 5</th>\n",
              "      <td>Florenza</td>\n",
              "      <td>Caderno</td>\n",
              "      <td>15</td>\n",
              "      <td>Sim</td>\n",
              "    </tr>\n",
              "  </tbody>\n",
              "</table>\n",
              "</div>"
            ],
            "text/plain": [
              "            Nome         Produto Valor Em Estoque\n",
              "Loja 2  Leonardo  Passagem aerea  1800        Sim\n",
              "Loja 3      Joao           Livro    50        Nao\n",
              "Loja 4     Lucas       Cartao SD    65        Nao\n",
              "Loja 5  Florenza         Caderno    15        Sim"
            ]
          },
          "metadata": {
            "tags": []
          },
          "execution_count": 151
        }
      ]
    },
    {
      "cell_type": "markdown",
      "metadata": {
        "id": "gqBag6j-Am2f",
        "colab_type": "text"
      },
      "source": [
        "Entretanto, como o resultado é uma cópia, o data frame original não é alterado."
      ]
    },
    {
      "cell_type": "code",
      "metadata": {
        "id": "lEKyzqEO_eES",
        "colab_type": "code",
        "outputId": "13f73706-1940-4f21-8df1-d967c2d54aa6",
        "colab": {
          "base_uri": "https://localhost:8080/",
          "height": 206
        }
      },
      "source": [
        "data_frame"
      ],
      "execution_count": 0,
      "outputs": [
        {
          "output_type": "execute_result",
          "data": {
            "text/html": [
              "<div>\n",
              "<style scoped>\n",
              "    .dataframe tbody tr th:only-of-type {\n",
              "        vertical-align: middle;\n",
              "    }\n",
              "\n",
              "    .dataframe tbody tr th {\n",
              "        vertical-align: top;\n",
              "    }\n",
              "\n",
              "    .dataframe thead th {\n",
              "        text-align: right;\n",
              "    }\n",
              "</style>\n",
              "<table border=\"1\" class=\"dataframe\">\n",
              "  <thead>\n",
              "    <tr style=\"text-align: right;\">\n",
              "      <th></th>\n",
              "      <th>Nome</th>\n",
              "      <th>Produto</th>\n",
              "      <th>Valor</th>\n",
              "      <th>Em Estoque</th>\n",
              "    </tr>\n",
              "  </thead>\n",
              "  <tbody>\n",
              "    <tr>\n",
              "      <th>Loja 1</th>\n",
              "      <td>Gabriela</td>\n",
              "      <td>Nintendo Switch</td>\n",
              "      <td>2000</td>\n",
              "      <td>Sim</td>\n",
              "    </tr>\n",
              "    <tr>\n",
              "      <th>Loja 2</th>\n",
              "      <td>Leonardo</td>\n",
              "      <td>Passagem aerea</td>\n",
              "      <td>1800</td>\n",
              "      <td>Sim</td>\n",
              "    </tr>\n",
              "    <tr>\n",
              "      <th>Loja 3</th>\n",
              "      <td>Joao</td>\n",
              "      <td>Livro</td>\n",
              "      <td>50</td>\n",
              "      <td>Nao</td>\n",
              "    </tr>\n",
              "    <tr>\n",
              "      <th>Loja 4</th>\n",
              "      <td>Lucas</td>\n",
              "      <td>Cartao SD</td>\n",
              "      <td>65</td>\n",
              "      <td>Nao</td>\n",
              "    </tr>\n",
              "    <tr>\n",
              "      <th>Loja 5</th>\n",
              "      <td>Florenza</td>\n",
              "      <td>Caderno</td>\n",
              "      <td>15</td>\n",
              "      <td>Sim</td>\n",
              "    </tr>\n",
              "  </tbody>\n",
              "</table>\n",
              "</div>"
            ],
            "text/plain": [
              "            Nome          Produto Valor Em Estoque\n",
              "Loja 1  Gabriela  Nintendo Switch  2000        Sim\n",
              "Loja 2  Leonardo   Passagem aerea  1800        Sim\n",
              "Loja 3      Joao            Livro    50        Nao\n",
              "Loja 4     Lucas        Cartao SD    65        Nao\n",
              "Loja 5  Florenza          Caderno    15        Sim"
            ]
          },
          "metadata": {
            "tags": []
          },
          "execution_count": 152
        }
      ]
    },
    {
      "cell_type": "markdown",
      "metadata": {
        "id": "-BksXKsqBIFL",
        "colab_type": "text"
      },
      "source": [
        "Podemos atribuir essa cópia a outra variável de maneira que o novo data frame fique armazenado. "
      ]
    },
    {
      "cell_type": "code",
      "metadata": {
        "id": "PL6CkFGlA-WV",
        "colab_type": "code",
        "outputId": "3a805a0f-9741-45c7-b02e-9e45fa512005",
        "colab": {
          "base_uri": "https://localhost:8080/",
          "height": 175
        }
      },
      "source": [
        "data_frame_copy = data_frame.drop(\"Loja 1\")\n",
        "data_frame_copy"
      ],
      "execution_count": 0,
      "outputs": [
        {
          "output_type": "execute_result",
          "data": {
            "text/html": [
              "<div>\n",
              "<style scoped>\n",
              "    .dataframe tbody tr th:only-of-type {\n",
              "        vertical-align: middle;\n",
              "    }\n",
              "\n",
              "    .dataframe tbody tr th {\n",
              "        vertical-align: top;\n",
              "    }\n",
              "\n",
              "    .dataframe thead th {\n",
              "        text-align: right;\n",
              "    }\n",
              "</style>\n",
              "<table border=\"1\" class=\"dataframe\">\n",
              "  <thead>\n",
              "    <tr style=\"text-align: right;\">\n",
              "      <th></th>\n",
              "      <th>Nome</th>\n",
              "      <th>Produto</th>\n",
              "      <th>Valor</th>\n",
              "      <th>Em Estoque</th>\n",
              "    </tr>\n",
              "  </thead>\n",
              "  <tbody>\n",
              "    <tr>\n",
              "      <th>Loja 2</th>\n",
              "      <td>Leonardo</td>\n",
              "      <td>Passagem aerea</td>\n",
              "      <td>1800</td>\n",
              "      <td>Sim</td>\n",
              "    </tr>\n",
              "    <tr>\n",
              "      <th>Loja 3</th>\n",
              "      <td>Joao</td>\n",
              "      <td>Livro</td>\n",
              "      <td>50</td>\n",
              "      <td>Nao</td>\n",
              "    </tr>\n",
              "    <tr>\n",
              "      <th>Loja 4</th>\n",
              "      <td>Lucas</td>\n",
              "      <td>Cartao SD</td>\n",
              "      <td>65</td>\n",
              "      <td>Nao</td>\n",
              "    </tr>\n",
              "    <tr>\n",
              "      <th>Loja 5</th>\n",
              "      <td>Florenza</td>\n",
              "      <td>Caderno</td>\n",
              "      <td>15</td>\n",
              "      <td>Sim</td>\n",
              "    </tr>\n",
              "  </tbody>\n",
              "</table>\n",
              "</div>"
            ],
            "text/plain": [
              "            Nome         Produto Valor Em Estoque\n",
              "Loja 2  Leonardo  Passagem aerea  1800        Sim\n",
              "Loja 3      Joao           Livro    50        Nao\n",
              "Loja 4     Lucas       Cartao SD    65        Nao\n",
              "Loja 5  Florenza         Caderno    15        Sim"
            ]
          },
          "metadata": {
            "tags": []
          },
          "execution_count": 153
        }
      ]
    },
    {
      "cell_type": "markdown",
      "metadata": {
        "id": "xhzJhbbq0cbB",
        "colab_type": "text"
      },
      "source": [
        "Porém, caso seja desejável excluir uma linha em definitivo, o parâmetro ***inplace*** precisa receber ***True***."
      ]
    },
    {
      "cell_type": "code",
      "metadata": {
        "id": "bPUvvL8g0iK5",
        "colab_type": "code",
        "colab": {}
      },
      "source": [
        "data_frame.drop(\"Loja 2\", inplace = True)\n"
      ],
      "execution_count": 0,
      "outputs": []
    },
    {
      "cell_type": "code",
      "metadata": {
        "id": "mctHgz2p3Hr8",
        "colab_type": "code",
        "outputId": "5a51f022-7d2a-46e9-a057-e9db4e2d5ee0",
        "colab": {
          "base_uri": "https://localhost:8080/",
          "height": 175
        }
      },
      "source": [
        "data_frame"
      ],
      "execution_count": 0,
      "outputs": [
        {
          "output_type": "execute_result",
          "data": {
            "text/html": [
              "<div>\n",
              "<style scoped>\n",
              "    .dataframe tbody tr th:only-of-type {\n",
              "        vertical-align: middle;\n",
              "    }\n",
              "\n",
              "    .dataframe tbody tr th {\n",
              "        vertical-align: top;\n",
              "    }\n",
              "\n",
              "    .dataframe thead th {\n",
              "        text-align: right;\n",
              "    }\n",
              "</style>\n",
              "<table border=\"1\" class=\"dataframe\">\n",
              "  <thead>\n",
              "    <tr style=\"text-align: right;\">\n",
              "      <th></th>\n",
              "      <th>Nome</th>\n",
              "      <th>Produto</th>\n",
              "      <th>Valor</th>\n",
              "      <th>Em Estoque</th>\n",
              "    </tr>\n",
              "  </thead>\n",
              "  <tbody>\n",
              "    <tr>\n",
              "      <th>Loja 1</th>\n",
              "      <td>Gabriela</td>\n",
              "      <td>Nintendo Switch</td>\n",
              "      <td>2000</td>\n",
              "      <td>Sim</td>\n",
              "    </tr>\n",
              "    <tr>\n",
              "      <th>Loja 3</th>\n",
              "      <td>Joao</td>\n",
              "      <td>Livro</td>\n",
              "      <td>50</td>\n",
              "      <td>Nao</td>\n",
              "    </tr>\n",
              "    <tr>\n",
              "      <th>Loja 4</th>\n",
              "      <td>Lucas</td>\n",
              "      <td>Cartao SD</td>\n",
              "      <td>65</td>\n",
              "      <td>Nao</td>\n",
              "    </tr>\n",
              "    <tr>\n",
              "      <th>Loja 5</th>\n",
              "      <td>Florenza</td>\n",
              "      <td>Caderno</td>\n",
              "      <td>15</td>\n",
              "      <td>Sim</td>\n",
              "    </tr>\n",
              "  </tbody>\n",
              "</table>\n",
              "</div>"
            ],
            "text/plain": [
              "            Nome          Produto Valor Em Estoque\n",
              "Loja 1  Gabriela  Nintendo Switch  2000        Sim\n",
              "Loja 3      Joao            Livro    50        Nao\n",
              "Loja 4     Lucas        Cartao SD    65        Nao\n",
              "Loja 5  Florenza          Caderno    15        Sim"
            ]
          },
          "metadata": {
            "tags": []
          },
          "execution_count": 155
        }
      ]
    },
    {
      "cell_type": "markdown",
      "metadata": {
        "id": "eVKnPMIj4RzN",
        "colab_type": "text"
      },
      "source": [
        "A linha *Loja 2* foi excluida do data frame original."
      ]
    },
    {
      "cell_type": "markdown",
      "metadata": {
        "id": "mAAlElz_4fMO",
        "colab_type": "text"
      },
      "source": [
        "Assim como *inplace*, existem outros parâmetros com valores padrões para quando nenhum valor for passado.\n",
        "\n",
        "Para definir a exclusão de uma coluna, o parâmetro **axis** precisa ser alterado para **1**.\n",
        "\n",
        "A função está pré-definida como **axis = 0**, ou seja, exluir linhas.\n",
        "\n"
      ]
    },
    {
      "cell_type": "code",
      "metadata": {
        "id": "QSQvHkNh3kj4",
        "colab_type": "code",
        "colab": {}
      },
      "source": [
        "data_frame.drop(\"Valor\", axis = 1, inplace = True)"
      ],
      "execution_count": 0,
      "outputs": []
    },
    {
      "cell_type": "code",
      "metadata": {
        "id": "adlkWOxS3wg2",
        "colab_type": "code",
        "outputId": "09011f8d-bc2e-427a-d063-9062e5b28007",
        "colab": {
          "base_uri": "https://localhost:8080/",
          "height": 175
        }
      },
      "source": [
        "data_frame"
      ],
      "execution_count": 0,
      "outputs": [
        {
          "output_type": "execute_result",
          "data": {
            "text/html": [
              "<div>\n",
              "<style scoped>\n",
              "    .dataframe tbody tr th:only-of-type {\n",
              "        vertical-align: middle;\n",
              "    }\n",
              "\n",
              "    .dataframe tbody tr th {\n",
              "        vertical-align: top;\n",
              "    }\n",
              "\n",
              "    .dataframe thead th {\n",
              "        text-align: right;\n",
              "    }\n",
              "</style>\n",
              "<table border=\"1\" class=\"dataframe\">\n",
              "  <thead>\n",
              "    <tr style=\"text-align: right;\">\n",
              "      <th></th>\n",
              "      <th>Nome</th>\n",
              "      <th>Produto</th>\n",
              "      <th>Em Estoque</th>\n",
              "    </tr>\n",
              "  </thead>\n",
              "  <tbody>\n",
              "    <tr>\n",
              "      <th>Loja 1</th>\n",
              "      <td>Gabriela</td>\n",
              "      <td>Nintendo Switch</td>\n",
              "      <td>Sim</td>\n",
              "    </tr>\n",
              "    <tr>\n",
              "      <th>Loja 3</th>\n",
              "      <td>Joao</td>\n",
              "      <td>Livro</td>\n",
              "      <td>Nao</td>\n",
              "    </tr>\n",
              "    <tr>\n",
              "      <th>Loja 4</th>\n",
              "      <td>Lucas</td>\n",
              "      <td>Cartao SD</td>\n",
              "      <td>Nao</td>\n",
              "    </tr>\n",
              "    <tr>\n",
              "      <th>Loja 5</th>\n",
              "      <td>Florenza</td>\n",
              "      <td>Caderno</td>\n",
              "      <td>Sim</td>\n",
              "    </tr>\n",
              "  </tbody>\n",
              "</table>\n",
              "</div>"
            ],
            "text/plain": [
              "            Nome          Produto Em Estoque\n",
              "Loja 1  Gabriela  Nintendo Switch        Sim\n",
              "Loja 3      Joao            Livro        Nao\n",
              "Loja 4     Lucas        Cartao SD        Nao\n",
              "Loja 5  Florenza          Caderno        Sim"
            ]
          },
          "metadata": {
            "tags": []
          },
          "execution_count": 157
        }
      ]
    },
    {
      "cell_type": "markdown",
      "metadata": {
        "id": "87dN0zpqGZjw",
        "colab_type": "text"
      },
      "source": [
        "**Observação**: usar a função **.T** retornará um data frame transposto.\n",
        "\n",
        "Os rótulos das colunas serão agora os *índices*."
      ]
    },
    {
      "cell_type": "code",
      "metadata": {
        "id": "MOINKHlW1hGU",
        "colab_type": "code",
        "colab": {
          "base_uri": "https://localhost:8080/",
          "height": 143
        },
        "outputId": "4e158eb2-345b-4733-fa44-60bb58cad929"
      },
      "source": [
        "data_frame.T"
      ],
      "execution_count": 158,
      "outputs": [
        {
          "output_type": "execute_result",
          "data": {
            "text/html": [
              "<div>\n",
              "<style scoped>\n",
              "    .dataframe tbody tr th:only-of-type {\n",
              "        vertical-align: middle;\n",
              "    }\n",
              "\n",
              "    .dataframe tbody tr th {\n",
              "        vertical-align: top;\n",
              "    }\n",
              "\n",
              "    .dataframe thead th {\n",
              "        text-align: right;\n",
              "    }\n",
              "</style>\n",
              "<table border=\"1\" class=\"dataframe\">\n",
              "  <thead>\n",
              "    <tr style=\"text-align: right;\">\n",
              "      <th></th>\n",
              "      <th>Loja 1</th>\n",
              "      <th>Loja 3</th>\n",
              "      <th>Loja 4</th>\n",
              "      <th>Loja 5</th>\n",
              "    </tr>\n",
              "  </thead>\n",
              "  <tbody>\n",
              "    <tr>\n",
              "      <th>Nome</th>\n",
              "      <td>Gabriela</td>\n",
              "      <td>Joao</td>\n",
              "      <td>Lucas</td>\n",
              "      <td>Florenza</td>\n",
              "    </tr>\n",
              "    <tr>\n",
              "      <th>Produto</th>\n",
              "      <td>Nintendo Switch</td>\n",
              "      <td>Livro</td>\n",
              "      <td>Cartao SD</td>\n",
              "      <td>Caderno</td>\n",
              "    </tr>\n",
              "    <tr>\n",
              "      <th>Em Estoque</th>\n",
              "      <td>Sim</td>\n",
              "      <td>Nao</td>\n",
              "      <td>Nao</td>\n",
              "      <td>Sim</td>\n",
              "    </tr>\n",
              "  </tbody>\n",
              "</table>\n",
              "</div>"
            ],
            "text/plain": [
              "                     Loja 1 Loja 3     Loja 4    Loja 5\n",
              "Nome               Gabriela   Joao      Lucas  Florenza\n",
              "Produto     Nintendo Switch  Livro  Cartao SD   Caderno\n",
              "Em Estoque              Sim    Nao        Nao       Sim"
            ]
          },
          "metadata": {
            "tags": []
          },
          "execution_count": 158
        }
      ]
    },
    {
      "cell_type": "markdown",
      "metadata": {
        "id": "IH8asqxxbJ78",
        "colab_type": "text"
      },
      "source": [
        "#Índices do Data Frame"
      ]
    },
    {
      "cell_type": "code",
      "metadata": {
        "id": "QwnskhTxbmHp",
        "colab_type": "code",
        "colab": {
          "base_uri": "https://localhost:8080/",
          "height": 175
        },
        "outputId": "55cbdf1d-5566-46c5-f68c-cc2b77bfdf80"
      },
      "source": [
        "data_frame"
      ],
      "execution_count": 209,
      "outputs": [
        {
          "output_type": "execute_result",
          "data": {
            "text/html": [
              "<div>\n",
              "<style scoped>\n",
              "    .dataframe tbody tr th:only-of-type {\n",
              "        vertical-align: middle;\n",
              "    }\n",
              "\n",
              "    .dataframe tbody tr th {\n",
              "        vertical-align: top;\n",
              "    }\n",
              "\n",
              "    .dataframe thead th {\n",
              "        text-align: right;\n",
              "    }\n",
              "</style>\n",
              "<table border=\"1\" class=\"dataframe\">\n",
              "  <thead>\n",
              "    <tr style=\"text-align: right;\">\n",
              "      <th></th>\n",
              "      <th>Nome</th>\n",
              "      <th>Produto</th>\n",
              "      <th>Em Estoque</th>\n",
              "    </tr>\n",
              "  </thead>\n",
              "  <tbody>\n",
              "    <tr>\n",
              "      <th>Loja 1</th>\n",
              "      <td>Gabriela Lopes</td>\n",
              "      <td>Nintendo Switch</td>\n",
              "      <td>Sim</td>\n",
              "    </tr>\n",
              "    <tr>\n",
              "      <th>Loja 3</th>\n",
              "      <td>Joao</td>\n",
              "      <td>Livro</td>\n",
              "      <td>Nao</td>\n",
              "    </tr>\n",
              "    <tr>\n",
              "      <th>Loja 4</th>\n",
              "      <td>Lucas</td>\n",
              "      <td>Cartao SD</td>\n",
              "      <td>Nao</td>\n",
              "    </tr>\n",
              "    <tr>\n",
              "      <th>Loja 5</th>\n",
              "      <td>Florenza</td>\n",
              "      <td>Caderno</td>\n",
              "      <td>Sim</td>\n",
              "    </tr>\n",
              "  </tbody>\n",
              "</table>\n",
              "</div>"
            ],
            "text/plain": [
              "                  Nome          Produto Em Estoque\n",
              "Loja 1  Gabriela Lopes  Nintendo Switch        Sim\n",
              "Loja 3            Joao            Livro        Nao\n",
              "Loja 4           Lucas        Cartao SD        Nao\n",
              "Loja 5        Florenza          Caderno        Sim"
            ]
          },
          "metadata": {
            "tags": []
          },
          "execution_count": 209
        }
      ]
    },
    {
      "cell_type": "markdown",
      "metadata": {
        "id": "RsDimlMRhGkK",
        "colab_type": "text"
      },
      "source": [
        "De maneira parecida com as séries, podemos usar **.index** para retornarmos os ***índices***\n",
        "\n",
        "Já para colunas, podemos usar a função ***.columns***:"
      ]
    },
    {
      "cell_type": "code",
      "metadata": {
        "id": "lGgEDlxNbd_e",
        "colab_type": "code",
        "colab": {
          "base_uri": "https://localhost:8080/",
          "height": 90
        },
        "outputId": "f2c120fe-b278-4b83-ccb6-15fda5e89a0d"
      },
      "source": [
        "ind = data_frame.index\n",
        "ind2 = data_frame.columns\n",
        "\n",
        "print(ind)\n",
        "print(\"\\n\")\n",
        "print(ind2)"
      ],
      "execution_count": 212,
      "outputs": [
        {
          "output_type": "stream",
          "text": [
            "Index(['Loja 1', 'Loja 3', 'Loja 4', 'Loja 5'], dtype='object')\n",
            "\n",
            "\n",
            "Index(['Nome', 'Produto', 'Em Estoque'], dtype='object')\n"
          ],
          "name": "stdout"
        }
      ]
    },
    {
      "cell_type": "markdown",
      "metadata": {
        "id": "Sdt-UxsoT1Jn",
        "colab_type": "text"
      },
      "source": [
        "#Manipulando dados do Data Frame"
      ]
    },
    {
      "cell_type": "markdown",
      "metadata": {
        "id": "3MCXaWg9UVWd",
        "colab_type": "text"
      },
      "source": [
        "Atribuir uma coluna a uma variável irá criar uma view:"
      ]
    },
    {
      "cell_type": "code",
      "metadata": {
        "id": "fvR9qw4VUPYM",
        "colab_type": "code",
        "colab": {
          "base_uri": "https://localhost:8080/",
          "height": 109
        },
        "outputId": "88e20e32-ece3-4562-991e-1ee10a6e3b44"
      },
      "source": [
        "col_nomes = data_frame[\"Nome\"]\n",
        "col_nomes"
      ],
      "execution_count": 159,
      "outputs": [
        {
          "output_type": "execute_result",
          "data": {
            "text/plain": [
              "Loja 1    Gabriela\n",
              "Loja 3        Joao\n",
              "Loja 4       Lucas\n",
              "Loja 5    Florenza\n",
              "Name: Nome, dtype: object"
            ]
          },
          "metadata": {
            "tags": []
          },
          "execution_count": 159
        }
      ]
    },
    {
      "cell_type": "markdown",
      "metadata": {
        "id": "Tc_R8boeVM-i",
        "colab_type": "text"
      },
      "source": [
        "Com isso, podemos manipular a variável **col_nomes[*índices numéricos*]** com ***índices numéricos*** os  de **0** a **tamanho-1**.\n",
        "\n",
        "A mudança nessa variável resultará na mudança do data frame.\n"
      ]
    },
    {
      "cell_type": "code",
      "metadata": {
        "id": "uMwCbZU0U7Kn",
        "colab_type": "code",
        "colab": {
          "base_uri": "https://localhost:8080/",
          "height": 175
        },
        "outputId": "30762586-309d-4dca-80df-bce36c07d189"
      },
      "source": [
        "col_nomes[0] = \"Gabriela Lopes\"\n",
        "data_frame"
      ],
      "execution_count": 161,
      "outputs": [
        {
          "output_type": "execute_result",
          "data": {
            "text/html": [
              "<div>\n",
              "<style scoped>\n",
              "    .dataframe tbody tr th:only-of-type {\n",
              "        vertical-align: middle;\n",
              "    }\n",
              "\n",
              "    .dataframe tbody tr th {\n",
              "        vertical-align: top;\n",
              "    }\n",
              "\n",
              "    .dataframe thead th {\n",
              "        text-align: right;\n",
              "    }\n",
              "</style>\n",
              "<table border=\"1\" class=\"dataframe\">\n",
              "  <thead>\n",
              "    <tr style=\"text-align: right;\">\n",
              "      <th></th>\n",
              "      <th>Nome</th>\n",
              "      <th>Produto</th>\n",
              "      <th>Em Estoque</th>\n",
              "    </tr>\n",
              "  </thead>\n",
              "  <tbody>\n",
              "    <tr>\n",
              "      <th>Loja 1</th>\n",
              "      <td>Gabriela Lopes</td>\n",
              "      <td>Nintendo Switch</td>\n",
              "      <td>Sim</td>\n",
              "    </tr>\n",
              "    <tr>\n",
              "      <th>Loja 3</th>\n",
              "      <td>Joao</td>\n",
              "      <td>Livro</td>\n",
              "      <td>Nao</td>\n",
              "    </tr>\n",
              "    <tr>\n",
              "      <th>Loja 4</th>\n",
              "      <td>Lucas</td>\n",
              "      <td>Cartao SD</td>\n",
              "      <td>Nao</td>\n",
              "    </tr>\n",
              "    <tr>\n",
              "      <th>Loja 5</th>\n",
              "      <td>Florenza</td>\n",
              "      <td>Caderno</td>\n",
              "      <td>Sim</td>\n",
              "    </tr>\n",
              "  </tbody>\n",
              "</table>\n",
              "</div>"
            ],
            "text/plain": [
              "                  Nome          Produto Em Estoque\n",
              "Loja 1  Gabriela Lopes  Nintendo Switch        Sim\n",
              "Loja 3            Joao            Livro        Nao\n",
              "Loja 4           Lucas        Cartao SD        Nao\n",
              "Loja 5        Florenza          Caderno        Sim"
            ]
          },
          "metadata": {
            "tags": []
          },
          "execution_count": 161
        }
      ]
    },
    {
      "cell_type": "markdown",
      "metadata": {
        "id": "yNnVE1SUVoPQ",
        "colab_type": "text"
      },
      "source": [
        "Vamos supor que estamos trabalhando com um data frame com valores numéricos:"
      ]
    },
    {
      "cell_type": "code",
      "metadata": {
        "id": "TUltGFFvVtcB",
        "colab_type": "code",
        "colab": {
          "base_uri": "https://localhost:8080/",
          "height": 81
        },
        "outputId": "a48f0bf1-69f9-4ca8-a5c1-30b71894eae5"
      },
      "source": [
        "ser = pd.Series([3,4,6,5], index = [\"Banana\",\"Uva\",\"Morango\",\"Abacate\"])\n",
        "df = pd.DataFrame([ser], index = [\"Preços\"])\n",
        "df"
      ],
      "execution_count": 201,
      "outputs": [
        {
          "output_type": "execute_result",
          "data": {
            "text/html": [
              "<div>\n",
              "<style scoped>\n",
              "    .dataframe tbody tr th:only-of-type {\n",
              "        vertical-align: middle;\n",
              "    }\n",
              "\n",
              "    .dataframe tbody tr th {\n",
              "        vertical-align: top;\n",
              "    }\n",
              "\n",
              "    .dataframe thead th {\n",
              "        text-align: right;\n",
              "    }\n",
              "</style>\n",
              "<table border=\"1\" class=\"dataframe\">\n",
              "  <thead>\n",
              "    <tr style=\"text-align: right;\">\n",
              "      <th></th>\n",
              "      <th>Banana</th>\n",
              "      <th>Uva</th>\n",
              "      <th>Morango</th>\n",
              "      <th>Abacate</th>\n",
              "    </tr>\n",
              "  </thead>\n",
              "  <tbody>\n",
              "    <tr>\n",
              "      <th>Preços</th>\n",
              "      <td>3</td>\n",
              "      <td>4</td>\n",
              "      <td>6</td>\n",
              "      <td>5</td>\n",
              "    </tr>\n",
              "  </tbody>\n",
              "</table>\n",
              "</div>"
            ],
            "text/plain": [
              "        Banana  Uva  Morango  Abacate\n",
              "Preços       3    4        6        5"
            ]
          },
          "metadata": {
            "tags": []
          },
          "execution_count": 201
        }
      ]
    },
    {
      "cell_type": "markdown",
      "metadata": {
        "id": "Vj-a1Q0iXuXJ",
        "colab_type": "text"
      },
      "source": [
        "Devido a crise, os preços precisam aumentar em 2 reais.\n",
        "\n",
        "O jeito intuitivo de resolver esse problema é usando um for:"
      ]
    },
    {
      "cell_type": "code",
      "metadata": {
        "id": "FSKn8S_GX3DR",
        "colab_type": "code",
        "colab": {
          "base_uri": "https://localhost:8080/",
          "height": 99
        },
        "outputId": "0fb14ce0-bedc-426b-9570-9c1dbaa1ad85"
      },
      "source": [
        "print(df.loc[\"Preços\"].index)\n",
        "\n",
        "for i in df.loc[\"Preços\"].index:\n",
        "  df[i] += 2\n",
        "\n",
        "df"
      ],
      "execution_count": 202,
      "outputs": [
        {
          "output_type": "stream",
          "text": [
            "Index(['Banana', 'Uva', 'Morango', 'Abacate'], dtype='object')\n"
          ],
          "name": "stdout"
        },
        {
          "output_type": "execute_result",
          "data": {
            "text/html": [
              "<div>\n",
              "<style scoped>\n",
              "    .dataframe tbody tr th:only-of-type {\n",
              "        vertical-align: middle;\n",
              "    }\n",
              "\n",
              "    .dataframe tbody tr th {\n",
              "        vertical-align: top;\n",
              "    }\n",
              "\n",
              "    .dataframe thead th {\n",
              "        text-align: right;\n",
              "    }\n",
              "</style>\n",
              "<table border=\"1\" class=\"dataframe\">\n",
              "  <thead>\n",
              "    <tr style=\"text-align: right;\">\n",
              "      <th></th>\n",
              "      <th>Banana</th>\n",
              "      <th>Uva</th>\n",
              "      <th>Morango</th>\n",
              "      <th>Abacate</th>\n",
              "    </tr>\n",
              "  </thead>\n",
              "  <tbody>\n",
              "    <tr>\n",
              "      <th>Preços</th>\n",
              "      <td>5</td>\n",
              "      <td>6</td>\n",
              "      <td>8</td>\n",
              "      <td>7</td>\n",
              "    </tr>\n",
              "  </tbody>\n",
              "</table>\n",
              "</div>"
            ],
            "text/plain": [
              "        Banana  Uva  Morango  Abacate\n",
              "Preços       5    6        8        7"
            ]
          },
          "metadata": {
            "tags": []
          },
          "execution_count": 202
        }
      ]
    },
    {
      "cell_type": "markdown",
      "metadata": {
        "id": "ZDt26v0kYmL_",
        "colab_type": "text"
      },
      "source": [
        "Porém, sempre que possível, devemos evitar usar laços.\n",
        "\n",
        "Sendo assim, podemos resolver esse problema da seguinte maneira:"
      ]
    },
    {
      "cell_type": "code",
      "metadata": {
        "id": "h7Rere-haLdx",
        "colab_type": "code",
        "colab": {
          "base_uri": "https://localhost:8080/",
          "height": 237
        },
        "outputId": "267792d8-2138-4135-ad0c-fcf3324ac0df"
      },
      "source": [
        "preco = df.loc[\"Preços\"]\n",
        "print(preco)\n",
        "print(\"\\n\")\n",
        "preco += 2\n",
        "print(preco)"
      ],
      "execution_count": 207,
      "outputs": [
        {
          "output_type": "stream",
          "text": [
            "Banana     5\n",
            "Uva        6\n",
            "Morango    8\n",
            "Abacate    7\n",
            "Name: Preços, dtype: int64\n",
            "\n",
            "\n",
            "Banana      7\n",
            "Uva         8\n",
            "Morango    10\n",
            "Abacate     9\n",
            "Name: Preços, dtype: int64\n"
          ],
          "name": "stdout"
        }
      ]
    }
  ]
}